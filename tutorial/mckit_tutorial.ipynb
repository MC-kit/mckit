{
 "cells": [
  {
   "cell_type": "code",
   "execution_count": 29,
   "metadata": {},
   "outputs": [],
   "source": [
    "from mckit import *"
   ]
  },
  {
   "cell_type": "markdown",
   "metadata": {},
   "source": [
    "### Read MCNP input file\n",
    "\n",
    "read_mcnp function reads MCNP input file and returns Universe instance. Universe instance contains _cell variable, list of cells. "
   ]
  },
  {
   "cell_type": "code",
   "execution_count": 30,
   "metadata": {},
   "outputs": [
    {
     "data": {
      "text/plain": [
       "mckit.universe.Universe"
      ]
     },
     "execution_count": 30,
     "metadata": {},
     "output_type": "execute_result"
    }
   ],
   "source": [
    "model1 = read_mcnp('test1.i')\n",
    "type(model1)"
   ]
  },
  {
   "cell_type": "code",
   "execution_count": 31,
   "metadata": {},
   "outputs": [
    {
     "data": {
      "text/plain": [
       "0"
      ]
     },
     "execution_count": 31,
     "metadata": {},
     "output_type": "execute_result"
    }
   ],
   "source": [
    "model1.name()"
   ]
  },
  {
   "cell_type": "markdown",
   "metadata": {},
   "source": [
    "It is possible to iterate over universe entities. Entities of inner universes are not included."
   ]
  },
  {
   "cell_type": "code",
   "execution_count": 32,
   "metadata": {},
   "outputs": [
    {
     "name": "stdout",
     "output_type": "stream",
     "text": [
      "1 0 -4 -2 1 -3 5 -6\n",
      "        IMP:N=1.000 \n",
      "        U=0 FILL=1 \n",
      "2 0 3:-1:2\n",
      "        IMP:N=0.000 \n",
      "        U=0 \n"
     ]
    }
   ],
   "source": [
    "for cell in model1:\n",
    "    print(cell.mcnp_repr())"
   ]
  },
  {
   "cell_type": "markdown",
   "metadata": {},
   "source": [
    "#### Get all universes"
   ]
  },
  {
   "cell_type": "code",
   "execution_count": 33,
   "metadata": {},
   "outputs": [
    {
     "name": "stdout",
     "output_type": "stream",
     "text": [
      "name:  1 The number of cells:  3\n",
      "name:  0 The number of cells:  2\n"
     ]
    }
   ],
   "source": [
    "universes = model1.get_universes()\n",
    "udict = {}\n",
    "for u in universes:\n",
    "    udict[u.name()] = u\n",
    "    print('name: ', u.name(), 'The number of cells: ', len(u))"
   ]
  },
  {
   "cell_type": "code",
   "execution_count": 7,
   "metadata": {},
   "outputs": [
    {
     "name": "stdout",
     "output_type": "stream",
     "text": [
      "1 0 -4 -2 1 -3 5 -6\n",
      "        IMP:N=1.000 \n",
      "        U=0 FILL=1 \n"
     ]
    }
   ],
   "source": [
    "cell_1 = udict[0]._cells[0]\n",
    "print(cell_1.mcnp_repr())"
   ]
  },
  {
   "cell_type": "code",
   "execution_count": 8,
   "metadata": {},
   "outputs": [
    {
     "name": "stdout",
     "output_type": "stream",
     "text": [
      "6 PZ 30\n",
      "2 CZ 5\n",
      "5 PZ -20\n",
      "4 CZ 10\n",
      "1 PZ -10\n",
      "3 PZ 20\n"
     ]
    }
   ],
   "source": [
    "surfaces = cell_1.shape.get_surfaces()\n",
    "for s in surfaces:\n",
    "    print(s.mcnp_repr())"
   ]
  },
  {
   "cell_type": "markdown",
   "metadata": {},
   "source": [
    "Surfaces 4, 5 and 6 are redundant. To simplify cell description *simplify* method can be used."
   ]
  },
  {
   "cell_type": "code",
   "execution_count": 34,
   "metadata": {},
   "outputs": [
    {
     "name": "stdout",
     "output_type": "stream",
     "text": [
      "Simplifies this cell by removing unnecessary surfaces.\n",
      "\n",
      "        The simplification procedure goes in the following way.\n",
      "        # TODO: insert brief description!\n",
      "\n",
      "        Parameters\n",
      "        ----------\n",
      "        box : Box\n",
      "            Box where geometry should be simplified.\n",
      "        split_disjoint : bool\n",
      "            Whether to split disjoint geometries into separate geometries.\n",
      "        min_volume : float\n",
      "            The smallest value of box's volume when the process of box splitting\n",
      "            must be stopped.\n",
      "        trim_size : int\n",
      "            Max size of set to return. It is used to prevent unlimited growth\n",
      "            of the variant set.\n",
      "\n",
      "        Returns\n",
      "        -------\n",
      "        simple_cell : Cell\n",
      "            Simplified version of this cell.\n",
      "        \n"
     ]
    }
   ],
   "source": [
    "print(cell_1.simplify.__doc__)"
   ]
  },
  {
   "cell_type": "code",
   "execution_count": 35,
   "metadata": {},
   "outputs": [
    {
     "name": "stdout",
     "output_type": "stream",
     "text": [
      "1 0 -2 1 -3\n",
      "        IMP:N=1.000 \n",
      "        U=0 FILL=1 \n"
     ]
    }
   ],
   "source": [
    "cell_1s = cell_1.simplify(min_volume=1.e-3)\n",
    "print(cell_1s.mcnp_repr())"
   ]
  },
  {
   "cell_type": "markdown",
   "metadata": {},
   "source": [
    "To flatten mcnp model *apply_fill* method of Universe can be used. It modifies current universe: inserts all cells of inner universes. But *simplify* method must be called separately."
   ]
  },
  {
   "cell_type": "code",
   "execution_count": 36,
   "metadata": {},
   "outputs": [
    {
     "name": "stdout",
     "output_type": "stream",
     "text": [
      "1 0 -4 -2 1 -3 5 -6\n",
      "        IMP:N=1.000 \n",
      "        U=0 FILL=1 \n",
      "2 0 3:-1:2\n",
      "        IMP:N=0.000 \n",
      "        U=0 \n"
     ]
    }
   ],
   "source": [
    "for c in model1:\n",
    "    print(c.mcnp_repr())"
   ]
  },
  {
   "cell_type": "code",
   "execution_count": 37,
   "metadata": {},
   "outputs": [
    {
     "name": "stdout",
     "output_type": "stream",
     "text": [
      "2 0 3:-1:2\n",
      "        IMP:N=0.000 \n",
      "        U=0 \n",
      "3 1 -7.800000000000001 -7 -2 -4 6 -9 1 -3 8 -5\n",
      "        IMP:N=1.000 \n",
      "        U=0 \n",
      "4 1 -7.800000000000001 -7 9 -2 -4 1 -10 -3 8 -5\n",
      "        IMP:N=1.000 \n",
      "        U=0 \n",
      "5 0 (10:-6:4) -7 -2 1 -3 8 -5\n",
      "        IMP:N=1.000 \n",
      "        U=0 \n"
     ]
    }
   ],
   "source": [
    "model1.apply_fill()\n",
    "for c in model1:\n",
    "    print(c.mcnp_repr())"
   ]
  },
  {
   "cell_type": "code",
   "execution_count": 38,
   "metadata": {},
   "outputs": [
    {
     "name": "stdout",
     "output_type": "stream",
     "text": [
      "Universe 0 simplification has been finished.\n",
      "0 empty cells were deleted.\n"
     ]
    }
   ],
   "source": [
    "model1.simplify(min_volume=1.e-3)"
   ]
  },
  {
   "cell_type": "code",
   "execution_count": 39,
   "metadata": {},
   "outputs": [
    {
     "name": "stdout",
     "output_type": "stream",
     "text": [
      "2 0 3:-1:2\n",
      "        IMP:N=0.000 \n",
      "        U=0 \n",
      "3 1 -7.800000000000001 -4 6 -9\n",
      "        IMP:N=1.000 \n",
      "        U=0 \n",
      "4 1 -7.800000000000001 9 -4 -10\n",
      "        IMP:N=1.000 \n",
      "        U=0 \n",
      "5 0 (10:-6:4) -2 1 -3\n",
      "        IMP:N=1.000 \n",
      "        U=0 \n"
     ]
    }
   ],
   "source": [
    "for c in model1:\n",
    "    print(c.mcnp_repr())"
   ]
  },
  {
   "cell_type": "code",
   "execution_count": 40,
   "metadata": {},
   "outputs": [],
   "source": [
    "model1.save('test_flattened.i')"
   ]
  },
  {
   "cell_type": "code",
   "execution_count": 41,
   "metadata": {},
   "outputs": [
    {
     "name": "stdout",
     "output_type": "stream",
     "text": [
      "4 CZ 3\n",
      "2 CZ 5\n",
      "6 PZ -5\n",
      "1 PZ -10\n",
      "3 PZ 20\n",
      "10 PZ 15\n",
      "9 PZ 5\n"
     ]
    }
   ],
   "source": [
    "surfaces = model1.get_surfaces()\n",
    "for s in surfaces:\n",
    "    print(s.mcnp_repr())"
   ]
  },
  {
   "cell_type": "markdown",
   "metadata": {},
   "source": [
    "Now cut a sphere of radius 4 cm from the model1."
   ]
  },
  {
   "cell_type": "code",
   "execution_count": 16,
   "metadata": {},
   "outputs": [],
   "source": [
    "sphere = create_surface('SO', 4, name=20)"
   ]
  },
  {
   "cell_type": "code",
   "execution_count": 42,
   "metadata": {},
   "outputs": [],
   "source": [
    "new_cells = []   # new cells\n",
    "mask_shape = Shape('S', sphere) # mask shape: only intersections with mask shape will \n",
    "                                # be presented in new model\n",
    "for c in model1:\n",
    "    nc = c.intersection(mask_shape)  # get intersection cell\n",
    "    nc = nc.simplify(min_volume=0.1) # simplify intersection cell. \n",
    "    new_cells.append(nc)             # append truncated cell to cell list.\n",
    "new_cells.append(Body(Shape('C', sphere), name=20)) # finally append new body, which is\n",
    "                                     # the sphere.\n",
    "new_u = Universe(new_cells)          # And create new universe."
   ]
  },
  {
   "cell_type": "code",
   "execution_count": 43,
   "metadata": {},
   "outputs": [
    {
     "name": "stdout",
     "output_type": "stream",
     "text": [
      "Universe 0 simplification has been finished.\n",
      "0 empty cells were deleted.\n"
     ]
    }
   ],
   "source": [
    "new_u.simplify(min_volume=0.1)"
   ]
  },
  {
   "cell_type": "code",
   "execution_count": 44,
   "metadata": {},
   "outputs": [],
   "source": [
    "new_u.save('test_cut.i')"
   ]
  },
  {
   "cell_type": "code",
   "execution_count": 45,
   "metadata": {},
   "outputs": [],
   "source": [
    "cell_1.material()"
   ]
  },
  {
   "cell_type": "markdown",
   "metadata": {},
   "source": [
    "## Insert cells with material"
   ]
  },
  {
   "cell_type": "code",
   "execution_count": 46,
   "metadata": {},
   "outputs": [],
   "source": [
    "to_insert = read_mcnp('to_insert.i')"
   ]
  },
  {
   "cell_type": "code",
   "execution_count": 47,
   "metadata": {},
   "outputs": [],
   "source": [
    "new_cells = [c for c in model1]\n",
    "ext_cells = []\n",
    "for add_c in to_insert:\n",
    "    if add_c.material():\n",
    "        comp = add_c.shape.complement()\n",
    "        for i, c in enumerate(new_cells):\n",
    "            new_cells[i] = c.intersection(comp)\n",
    "        ext_cells.append(add_c)\n",
    "new_cells.extend(ext_cells)\n",
    "comb_u = Universe(new_cells, name_rule='clash')"
   ]
  },
  {
   "cell_type": "code",
   "execution_count": 48,
   "metadata": {},
   "outputs": [
    {
     "name": "stdout",
     "output_type": "stream",
     "text": [
      "Universe 0 simplification has been finished.\n",
      "0 empty cells were deleted.\n"
     ]
    }
   ],
   "source": [
    "comb_u.simplify(min_volume=0.01)"
   ]
  },
  {
   "cell_type": "code",
   "execution_count": 49,
   "metadata": {},
   "outputs": [],
   "source": [
    "comb_u.save('combine.i')"
   ]
  },
  {
   "cell_type": "markdown",
   "metadata": {},
   "source": [
    "# Material manipulation"
   ]
  },
  {
   "cell_type": "code",
   "execution_count": 58,
   "metadata": {},
   "outputs": [
    {
     "name": "stdout",
     "output_type": "stream",
     "text": [
      "M1 1000  6.666667e-01\n",
      "        8000  3.333333e-01\n"
     ]
    }
   ],
   "source": [
    "comp = Composition(atomic=[('H', 2), ('O', 1)], name=1, comment='Material 1')\n",
    "print(comp.mcnp_repr())"
   ]
  },
  {
   "cell_type": "code",
   "execution_count": 51,
   "metadata": {},
   "outputs": [
    {
     "name": "stdout",
     "output_type": "stream",
     "text": [
      "M1 1001  6.665900e-01\n",
      "        1002  7.666667e-05\n",
      "        8016  3.325233e-01\n",
      "        8017  1.266667e-04\n",
      "        8018  6.833333e-04\n"
     ]
    }
   ],
   "source": [
    "comp_e = comp.expand()   # Get isotope composition\n",
    "print(comp_e.mcnp_repr())"
   ]
  },
  {
   "cell_type": "code",
   "execution_count": 52,
   "metadata": {},
   "outputs": [],
   "source": [
    "water = Material(comp, density=1.0)"
   ]
  },
  {
   "cell_type": "code",
   "execution_count": 53,
   "metadata": {},
   "outputs": [],
   "source": [
    "oil = Material(atomic=[('C', 1), ('H', 2)], density=0.8)"
   ]
  },
  {
   "cell_type": "code",
   "execution_count": 54,
   "metadata": {},
   "outputs": [],
   "source": [
    "mix = Material.mixture((water, 0.4), (oil, 0.6), fraction_type='weight', comment)"
   ]
  },
  {
   "cell_type": "code",
   "execution_count": 55,
   "metadata": {},
   "outputs": [
    {
     "name": "stdout",
     "output_type": "stream",
     "text": [
      "0.8695652173913044\n",
      "M3 1000  6.666667e-01\n",
      "        8000  1.138999e-01\n",
      "        6000  2.194334e-01\n"
     ]
    }
   ],
   "source": [
    "print(mix.density)\n",
    "mix.composition.options['name'] = 3\n",
    "print(mix.composition.mcnp_repr())"
   ]
  },
  {
   "cell_type": "code",
   "execution_count": null,
   "metadata": {},
   "outputs": [],
   "source": []
  }
 ],
 "metadata": {
  "kernelspec": {
   "display_name": "Python 3",
   "language": "python",
   "name": "python3"
  },
  "language_info": {
   "codemirror_mode": {
    "name": "ipython",
    "version": 3
   },
   "file_extension": ".py",
   "mimetype": "text/x-python",
   "name": "python",
   "nbconvert_exporter": "python",
   "pygments_lexer": "ipython3",
   "version": "3.7.3"
  }
 },
 "nbformat": 4,
 "nbformat_minor": 2
}
