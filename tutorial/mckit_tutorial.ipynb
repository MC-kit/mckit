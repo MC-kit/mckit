{
 "cells": [
  {
   "cell_type": "code",
   "execution_count": 1,
   "metadata": {
    "execution": {
     "iopub.execute_input": "2024-09-11T11:50:25.201891Z",
     "iopub.status.busy": "2024-09-11T11:50:25.201703Z",
     "iopub.status.idle": "2024-09-11T11:50:25.368013Z",
     "shell.execute_reply": "2024-09-11T11:50:25.367541Z",
     "shell.execute_reply.started": "2024-09-11T11:50:25.201873Z"
    }
   },
   "outputs": [],
   "source": [
    "from __future__ import annotations\n",
    "\n",
    "from mckit import Body, Composition, Material, Shape, Universe, create_surface, from_file"
   ]
  },
  {
   "cell_type": "markdown",
   "metadata": {},
   "source": [
    "### Read MCNP input file\n",
    "\n",
    "read_mcnp function reads MCNP input file and returns Universe instance. Universe instance contains _cell variable, list of cells."
   ]
  },
  {
   "cell_type": "code",
   "execution_count": 2,
   "metadata": {
    "execution": {
     "iopub.execute_input": "2024-09-11T11:50:25.368908Z",
     "iopub.status.busy": "2024-09-11T11:50:25.368662Z",
     "iopub.status.idle": "2024-09-11T11:50:25.386694Z",
     "shell.execute_reply": "2024-09-11T11:50:25.386156Z",
     "shell.execute_reply.started": "2024-09-11T11:50:25.368891Z"
    }
   },
   "outputs": [
    {
     "data": {
      "text/plain": [
       "mckit.universe.Universe"
      ]
     },
     "execution_count": 2,
     "metadata": {},
     "output_type": "execute_result"
    }
   ],
   "source": [
    "model1 = from_file(\"test1.i\").universe\n",
    "type(model1)"
   ]
  },
  {
   "cell_type": "code",
   "execution_count": 3,
   "metadata": {
    "execution": {
     "iopub.execute_input": "2024-09-11T11:50:25.388278Z",
     "iopub.status.busy": "2024-09-11T11:50:25.388055Z",
     "iopub.status.idle": "2024-09-11T11:50:25.391857Z",
     "shell.execute_reply": "2024-09-11T11:50:25.391142Z",
     "shell.execute_reply.started": "2024-09-11T11:50:25.388261Z"
    }
   },
   "outputs": [
    {
     "data": {
      "text/plain": [
       "0"
      ]
     },
     "execution_count": 3,
     "metadata": {},
     "output_type": "execute_result"
    }
   ],
   "source": [
    "model1.name()"
   ]
  },
  {
   "cell_type": "markdown",
   "metadata": {},
   "source": [
    "It is possible to iterate over universe entities. Entities of inner universes are not included."
   ]
  },
  {
   "cell_type": "code",
   "execution_count": 4,
   "metadata": {
    "execution": {
     "iopub.execute_input": "2024-09-11T11:50:25.392743Z",
     "iopub.status.busy": "2024-09-11T11:50:25.392523Z",
     "iopub.status.idle": "2024-09-11T11:50:25.395925Z",
     "shell.execute_reply": "2024-09-11T11:50:25.395425Z",
     "shell.execute_reply.started": "2024-09-11T11:50:25.392727Z"
    }
   },
   "outputs": [
    {
     "name": "stdout",
     "output_type": "stream",
     "text": [
      "1 0 -4 -2 1 -3 5 -6\n",
      "        IMP:N=1.000 \n",
      "        U=0 FILL=1 \n",
      "2 0 3:-1:2\n",
      "        IMP:N=0.000 \n",
      "        U=0 \n"
     ]
    }
   ],
   "source": [
    "for cell in model1:\n",
    "    print(cell.mcnp_repr())"
   ]
  },
  {
   "cell_type": "markdown",
   "metadata": {},
   "source": [
    "#### Get all universes"
   ]
  },
  {
   "cell_type": "code",
   "execution_count": 5,
   "metadata": {
    "execution": {
     "iopub.execute_input": "2024-09-11T11:50:25.396921Z",
     "iopub.status.busy": "2024-09-11T11:50:25.396647Z",
     "iopub.status.idle": "2024-09-11T11:50:25.400414Z",
     "shell.execute_reply": "2024-09-11T11:50:25.399886Z",
     "shell.execute_reply.started": "2024-09-11T11:50:25.396892Z"
    }
   },
   "outputs": [
    {
     "name": "stdout",
     "output_type": "stream",
     "text": [
      "name:  0 The number of cells:  2\n",
      "name:  1 The number of cells:  3\n"
     ]
    }
   ],
   "source": [
    "universes = model1.get_universes()\n",
    "udict = {}\n",
    "for u in universes:\n",
    "    udict[u.name()] = u\n",
    "    print(\"name: \", u.name(), \"The number of cells: \", len(u))"
   ]
  },
  {
   "cell_type": "code",
   "execution_count": 6,
   "metadata": {
    "execution": {
     "iopub.execute_input": "2024-09-11T11:50:25.401489Z",
     "iopub.status.busy": "2024-09-11T11:50:25.401100Z",
     "iopub.status.idle": "2024-09-11T11:50:25.405197Z",
     "shell.execute_reply": "2024-09-11T11:50:25.404617Z",
     "shell.execute_reply.started": "2024-09-11T11:50:25.401460Z"
    }
   },
   "outputs": [
    {
     "name": "stdout",
     "output_type": "stream",
     "text": [
      "1 0 -4 -2 1 -3 5 -6\n",
      "        IMP:N=1.000 \n",
      "        U=0 FILL=1 \n"
     ]
    }
   ],
   "source": [
    "cell_1 = udict[0]._cells[0]\n",
    "print(cell_1.mcnp_repr())"
   ]
  },
  {
   "cell_type": "code",
   "execution_count": 7,
   "metadata": {
    "execution": {
     "iopub.execute_input": "2024-09-11T11:50:25.406399Z",
     "iopub.status.busy": "2024-09-11T11:50:25.406087Z",
     "iopub.status.idle": "2024-09-11T11:50:25.410399Z",
     "shell.execute_reply": "2024-09-11T11:50:25.409980Z",
     "shell.execute_reply.started": "2024-09-11T11:50:25.406373Z"
    }
   },
   "outputs": [
    {
     "name": "stdout",
     "output_type": "stream",
     "text": [
      "6 PZ 30\n",
      "2 CZ 5\n",
      "5 PZ -20\n",
      "4 CZ 10\n",
      "1 PZ -10\n",
      "3 PZ 20\n"
     ]
    }
   ],
   "source": [
    "surfaces = cell_1.shape.get_surfaces()\n",
    "for s in surfaces:\n",
    "    print(s.mcnp_repr())"
   ]
  },
  {
   "cell_type": "markdown",
   "metadata": {},
   "source": [
    "Surfaces 4, 5 and 6 are redundant. To simplify cell description *simplify* method can be used."
   ]
  },
  {
   "cell_type": "code",
   "execution_count": 8,
   "metadata": {
    "execution": {
     "iopub.execute_input": "2024-09-11T11:50:25.411226Z",
     "iopub.status.busy": "2024-09-11T11:50:25.411015Z",
     "iopub.status.idle": "2024-09-11T11:50:25.414352Z",
     "shell.execute_reply": "2024-09-11T11:50:25.413760Z",
     "shell.execute_reply.started": "2024-09-11T11:50:25.411209Z"
    }
   },
   "outputs": [
    {
     "name": "stdout",
     "output_type": "stream",
     "text": [
      "Simplifies this cell by removing unnecessary surfaces.\n",
      "\n",
      "        The simplification procedure goes in the following way.\n",
      "        # TODO: insert brief description!\n",
      "\n",
      "        Args:\n",
      "            box:\n",
      "                Box where geometry should be simplified.\n",
      "            split_disjoint:\n",
      "                Whether to split disjoint geometries into separate geometries.\n",
      "            min_volume:\n",
      "                The smallest value of box's volume when the process of box splitting must be stopped.\n",
      "            trim_size:\n",
      "                Max size of set to return. It is used to prevent unlimited growth\n",
      "                of the variant set.\n",
      "\n",
      "        Returns:\n",
      "            Simplified version of this cell.\n",
      "        \n"
     ]
    }
   ],
   "source": [
    "print(cell_1.simplify.__doc__)"
   ]
  },
  {
   "cell_type": "code",
   "execution_count": 9,
   "metadata": {
    "execution": {
     "iopub.execute_input": "2024-09-11T11:50:25.415152Z",
     "iopub.status.busy": "2024-09-11T11:50:25.414932Z",
     "iopub.status.idle": "2024-09-11T11:50:25.804449Z",
     "shell.execute_reply": "2024-09-11T11:50:25.803759Z",
     "shell.execute_reply.started": "2024-09-11T11:50:25.415135Z"
    }
   },
   "outputs": [
    {
     "name": "stdout",
     "output_type": "stream",
     "text": [
      "1 0 -2 1 -3\n",
      "        IMP:N=1.000 \n",
      "        U=0 FILL=1 \n"
     ]
    }
   ],
   "source": [
    "cell_1s = cell_1.simplify(min_volume=1.e-3)\n",
    "print(cell_1s.mcnp_repr())"
   ]
  },
  {
   "cell_type": "markdown",
   "metadata": {},
   "source": [
    "To flatten mcnp model *apply_fill* method of Universe can be used. It modifies current universe: inserts all cells of inner universes. But *simplify* method must be called separately."
   ]
  },
  {
   "cell_type": "code",
   "execution_count": 10,
   "metadata": {
    "execution": {
     "iopub.execute_input": "2024-09-11T11:50:25.805263Z",
     "iopub.status.busy": "2024-09-11T11:50:25.805043Z",
     "iopub.status.idle": "2024-09-11T11:50:25.808809Z",
     "shell.execute_reply": "2024-09-11T11:50:25.808192Z",
     "shell.execute_reply.started": "2024-09-11T11:50:25.805247Z"
    }
   },
   "outputs": [
    {
     "name": "stdout",
     "output_type": "stream",
     "text": [
      "1 0 -4 -2 1 -3 5 -6\n",
      "        IMP:N=1.000 \n",
      "        U=0 FILL=1 \n",
      "2 0 3:-1:2\n",
      "        IMP:N=0.000 \n",
      "        U=0 \n"
     ]
    }
   ],
   "source": [
    "for c in model1:\n",
    "    print(c.mcnp_repr())"
   ]
  },
  {
   "cell_type": "code",
   "execution_count": 11,
   "metadata": {
    "execution": {
     "iopub.execute_input": "2024-09-11T11:50:25.809709Z",
     "iopub.status.busy": "2024-09-11T11:50:25.809471Z",
     "iopub.status.idle": "2024-09-11T11:50:25.822658Z",
     "shell.execute_reply": "2024-09-11T11:50:25.822014Z",
     "shell.execute_reply.started": "2024-09-11T11:50:25.809693Z"
    }
   },
   "outputs": [
    {
     "name": "stdout",
     "output_type": "stream",
     "text": [
      "2 0 3:-1:2\n",
      "        IMP:N=0.000 \n",
      "        U=0 \n",
      "3 1 -7.8 -7 -2 -4 6 -9 1 -3 8 -5\n",
      "        IMP:N=1.000 \n",
      "        U=0 \n",
      "4 1 -7.8 -7 9 -2 -4 1 -10 -3 8 -5\n",
      "        IMP:N=1.000 \n",
      "        U=0 \n",
      "5 0 -7 -2 1 -3 8 -5 (10:-6:4)\n",
      "        IMP:N=1.000 \n",
      "        U=0 \n"
     ]
    }
   ],
   "source": [
    "model1.apply_fill()\n",
    "for c in model1:\n",
    "    print(c.mcnp_repr())"
   ]
  },
  {
   "cell_type": "code",
   "execution_count": 12,
   "metadata": {
    "execution": {
     "iopub.execute_input": "2024-09-11T11:50:25.825425Z",
     "iopub.status.busy": "2024-09-11T11:50:25.825163Z",
     "iopub.status.idle": "2024-09-11T11:50:27.372115Z",
     "shell.execute_reply": "2024-09-11T11:50:27.371573Z",
     "shell.execute_reply.started": "2024-09-11T11:50:25.825408Z"
    }
   },
   "outputs": [
    {
     "name": "stdout",
     "output_type": "stream",
     "text": [
      "\n"
     ]
    }
   ],
   "source": [
    "model1.simplify(min_volume=1.e-3)"
   ]
  },
  {
   "cell_type": "code",
   "execution_count": 13,
   "metadata": {
    "execution": {
     "iopub.execute_input": "2024-09-11T11:50:27.372918Z",
     "iopub.status.busy": "2024-09-11T11:50:27.372758Z",
     "iopub.status.idle": "2024-09-11T11:50:27.376101Z",
     "shell.execute_reply": "2024-09-11T11:50:27.375574Z",
     "shell.execute_reply.started": "2024-09-11T11:50:27.372903Z"
    }
   },
   "outputs": [
    {
     "name": "stdout",
     "output_type": "stream",
     "text": [
      "2 0 3:-1:2\n",
      "        IMP:N=0.000 \n",
      "        U=0 \n",
      "3 1 -7.8 -4 6 -9\n",
      "        IMP:N=1.000 \n",
      "        U=0 \n",
      "4 1 -7.8 9 -4 -10\n",
      "        IMP:N=1.000 \n",
      "        U=0 \n",
      "5 0 -2 1 -3 (10:-6:4)\n",
      "        IMP:N=1.000 \n",
      "        U=0 \n"
     ]
    }
   ],
   "source": [
    "for c in model1:\n",
    "    print(c.mcnp_repr())"
   ]
  },
  {
   "cell_type": "code",
   "execution_count": 14,
   "metadata": {
    "execution": {
     "iopub.execute_input": "2024-09-11T11:50:27.377301Z",
     "iopub.status.busy": "2024-09-11T11:50:27.377038Z",
     "iopub.status.idle": "2024-09-11T11:50:27.383496Z",
     "shell.execute_reply": "2024-09-11T11:50:27.382970Z",
     "shell.execute_reply.started": "2024-09-11T11:50:27.377285Z"
    }
   },
   "outputs": [],
   "source": [
    "model1.save(\"test_flattened.i\")"
   ]
  },
  {
   "cell_type": "code",
   "execution_count": 15,
   "metadata": {
    "execution": {
     "iopub.execute_input": "2024-09-11T11:50:27.384283Z",
     "iopub.status.busy": "2024-09-11T11:50:27.384076Z",
     "iopub.status.idle": "2024-09-11T11:50:27.388681Z",
     "shell.execute_reply": "2024-09-11T11:50:27.388093Z",
     "shell.execute_reply.started": "2024-09-11T11:50:27.384268Z"
    }
   },
   "outputs": [
    {
     "name": "stdout",
     "output_type": "stream",
     "text": [
      "4 CZ 3\n",
      "2 CZ 5\n",
      "6 PZ -5\n",
      "1 PZ -10\n",
      "3 PZ 20\n",
      "10 PZ 15\n",
      "9 PZ 5\n"
     ]
    }
   ],
   "source": [
    "surfaces = model1.get_surfaces()\n",
    "for s in surfaces:\n",
    "    print(s.mcnp_repr())"
   ]
  },
  {
   "cell_type": "markdown",
   "metadata": {},
   "source": [
    "Now cut a sphere of radius 4 cm from the model1."
   ]
  },
  {
   "cell_type": "code",
   "execution_count": 16,
   "metadata": {
    "execution": {
     "iopub.execute_input": "2024-09-11T11:50:27.389585Z",
     "iopub.status.busy": "2024-09-11T11:50:27.389339Z",
     "iopub.status.idle": "2024-09-11T11:50:27.392704Z",
     "shell.execute_reply": "2024-09-11T11:50:27.392000Z",
     "shell.execute_reply.started": "2024-09-11T11:50:27.389560Z"
    }
   },
   "outputs": [],
   "source": [
    "sphere = create_surface(\"SO\", 4, name=20)"
   ]
  },
  {
   "cell_type": "code",
   "execution_count": 17,
   "metadata": {
    "execution": {
     "iopub.execute_input": "2024-09-11T11:50:27.393970Z",
     "iopub.status.busy": "2024-09-11T11:50:27.393662Z",
     "iopub.status.idle": "2024-09-11T11:50:29.244831Z",
     "shell.execute_reply": "2024-09-11T11:50:29.244266Z",
     "shell.execute_reply.started": "2024-09-11T11:50:27.393952Z"
    }
   },
   "outputs": [],
   "source": [
    "new_cells = []   # new cells\n",
    "mask_shape = Shape(\"S\", sphere) # mask shape: only intersections with mask shape will\n",
    "                                # be presented in new model\n",
    "for c in model1:\n",
    "    nc = c.intersection(mask_shape)  # get intersection cell\n",
    "    nc = nc.simplify(min_volume=0.1) # simplify intersection cell.\n",
    "    new_cells.append(nc)             # append truncated cell to cell list.\n",
    "new_cells.append(Body(Shape(\"C\", sphere), name=20)) # finally append new body, which is\n",
    "                                     # the sphere.\n",
    "new_u = Universe(new_cells)          # And create new universe."
   ]
  },
  {
   "cell_type": "code",
   "execution_count": 18,
   "metadata": {
    "execution": {
     "iopub.execute_input": "2024-09-11T11:50:29.245706Z",
     "iopub.status.busy": "2024-09-11T11:50:29.245492Z",
     "iopub.status.idle": "2024-09-11T11:50:30.664172Z",
     "shell.execute_reply": "2024-09-11T11:50:30.663681Z",
     "shell.execute_reply.started": "2024-09-11T11:50:29.245691Z"
    }
   },
   "outputs": [
    {
     "name": "stdout",
     "output_type": "stream",
     "text": [
      "\n"
     ]
    }
   ],
   "source": [
    "new_u.simplify(min_volume=0.1)"
   ]
  },
  {
   "cell_type": "code",
   "execution_count": 19,
   "metadata": {
    "execution": {
     "iopub.execute_input": "2024-09-11T11:50:30.664927Z",
     "iopub.status.busy": "2024-09-11T11:50:30.664768Z",
     "iopub.status.idle": "2024-09-11T11:50:30.671663Z",
     "shell.execute_reply": "2024-09-11T11:50:30.671047Z",
     "shell.execute_reply.started": "2024-09-11T11:50:30.664912Z"
    }
   },
   "outputs": [],
   "source": [
    "new_u.save(\"test_cut.i\")"
   ]
  },
  {
   "cell_type": "code",
   "execution_count": 20,
   "metadata": {
    "execution": {
     "iopub.execute_input": "2024-09-11T11:50:30.672708Z",
     "iopub.status.busy": "2024-09-11T11:50:30.672489Z",
     "iopub.status.idle": "2024-09-11T11:50:30.675637Z",
     "shell.execute_reply": "2024-09-11T11:50:30.674935Z",
     "shell.execute_reply.started": "2024-09-11T11:50:30.672691Z"
    }
   },
   "outputs": [],
   "source": [
    "cell_1.material()"
   ]
  },
  {
   "cell_type": "markdown",
   "metadata": {},
   "source": [
    "## Insert cells with material"
   ]
  },
  {
   "cell_type": "code",
   "execution_count": 21,
   "metadata": {
    "execution": {
     "iopub.execute_input": "2024-09-11T11:50:30.676623Z",
     "iopub.status.busy": "2024-09-11T11:50:30.676409Z",
     "iopub.status.idle": "2024-09-11T11:50:30.683764Z",
     "shell.execute_reply": "2024-09-11T11:50:30.683241Z",
     "shell.execute_reply.started": "2024-09-11T11:50:30.676608Z"
    }
   },
   "outputs": [],
   "source": [
    "to_insert = from_file(\"to_insert.i\").universe"
   ]
  },
  {
   "cell_type": "code",
   "execution_count": 22,
   "metadata": {
    "execution": {
     "iopub.execute_input": "2024-09-11T11:50:30.684739Z",
     "iopub.status.busy": "2024-09-11T11:50:30.684507Z",
     "iopub.status.idle": "2024-09-11T11:50:30.698733Z",
     "shell.execute_reply": "2024-09-11T11:50:30.698255Z",
     "shell.execute_reply.started": "2024-09-11T11:50:30.684722Z"
    }
   },
   "outputs": [],
   "source": [
    "new_cells = list(iter(model1))\n",
    "ext_cells = []\n",
    "for add_c in to_insert:\n",
    "    if add_c.material():\n",
    "        comp = add_c.shape.complement()\n",
    "        for i, c in enumerate(new_cells):\n",
    "            new_cells[i] = c.intersection(comp)\n",
    "        ext_cells.append(add_c)\n",
    "new_cells.extend(ext_cells)\n",
    "comb_u = Universe(new_cells, name_rule=\"clash\")"
   ]
  },
  {
   "cell_type": "code",
   "execution_count": 23,
   "metadata": {
    "execution": {
     "iopub.execute_input": "2024-09-11T11:50:30.699710Z",
     "iopub.status.busy": "2024-09-11T11:50:30.699461Z",
     "iopub.status.idle": "2024-09-11T11:50:33.098239Z",
     "shell.execute_reply": "2024-09-11T11:50:33.097840Z",
     "shell.execute_reply.started": "2024-09-11T11:50:30.699689Z"
    }
   },
   "outputs": [
    {
     "name": "stdout",
     "output_type": "stream",
     "text": [
      "\n"
     ]
    }
   ],
   "source": [
    "comb_u.simplify(min_volume=0.01)"
   ]
  },
  {
   "cell_type": "code",
   "execution_count": 24,
   "metadata": {
    "execution": {
     "iopub.execute_input": "2024-09-11T11:50:33.099018Z",
     "iopub.status.busy": "2024-09-11T11:50:33.098857Z",
     "iopub.status.idle": "2024-09-11T11:50:33.107428Z",
     "shell.execute_reply": "2024-09-11T11:50:33.106737Z",
     "shell.execute_reply.started": "2024-09-11T11:50:33.099003Z"
    }
   },
   "outputs": [],
   "source": [
    "comb_u.save(\"combine.i\")"
   ]
  },
  {
   "cell_type": "markdown",
   "metadata": {},
   "source": [
    "# Material manipulation"
   ]
  },
  {
   "cell_type": "code",
   "execution_count": 25,
   "metadata": {
    "execution": {
     "iopub.execute_input": "2024-09-11T11:50:33.108300Z",
     "iopub.status.busy": "2024-09-11T11:50:33.108036Z",
     "iopub.status.idle": "2024-09-11T11:50:33.111804Z",
     "shell.execute_reply": "2024-09-11T11:50:33.111137Z",
     "shell.execute_reply.started": "2024-09-11T11:50:33.108282Z"
    }
   },
   "outputs": [
    {
     "name": "stdout",
     "output_type": "stream",
     "text": [
      "M1 1000  6.666667e-01\n",
      "        8000  3.333333e-01\n"
     ]
    }
   ],
   "source": [
    "comp = Composition(atomic=[(\"H\", 2), (\"O\", 1)], name=1, comment=\"Material 1\")\n",
    "print(comp.mcnp_repr())"
   ]
  },
  {
   "cell_type": "code",
   "execution_count": 26,
   "metadata": {
    "execution": {
     "iopub.execute_input": "2024-09-11T11:50:33.112707Z",
     "iopub.status.busy": "2024-09-11T11:50:33.112442Z",
     "iopub.status.idle": "2024-09-11T11:50:33.115886Z",
     "shell.execute_reply": "2024-09-11T11:50:33.115412Z",
     "shell.execute_reply.started": "2024-09-11T11:50:33.112690Z"
    }
   },
   "outputs": [
    {
     "name": "stdout",
     "output_type": "stream",
     "text": [
      "M1 1001  6.665900e-01\n",
      "        1002  7.666667e-05\n",
      "        8016  3.325233e-01\n",
      "        8017  1.266667e-04\n",
      "        8018  6.833333e-04\n"
     ]
    }
   ],
   "source": [
    "comp_e = comp.expand()   # Get isotope composition\n",
    "print(comp_e.mcnp_repr())"
   ]
  },
  {
   "cell_type": "code",
   "execution_count": 27,
   "metadata": {
    "execution": {
     "iopub.execute_input": "2024-09-11T11:50:33.116722Z",
     "iopub.status.busy": "2024-09-11T11:50:33.116480Z",
     "iopub.status.idle": "2024-09-11T11:50:33.119403Z",
     "shell.execute_reply": "2024-09-11T11:50:33.118932Z",
     "shell.execute_reply.started": "2024-09-11T11:50:33.116706Z"
    }
   },
   "outputs": [],
   "source": [
    "water = Material(comp, density=1.0)"
   ]
  },
  {
   "cell_type": "code",
   "execution_count": 28,
   "metadata": {
    "execution": {
     "iopub.execute_input": "2024-09-11T11:50:33.120609Z",
     "iopub.status.busy": "2024-09-11T11:50:33.120139Z",
     "iopub.status.idle": "2024-09-11T11:50:33.123587Z",
     "shell.execute_reply": "2024-09-11T11:50:33.123167Z",
     "shell.execute_reply.started": "2024-09-11T11:50:33.120496Z"
    }
   },
   "outputs": [],
   "source": [
    "oil = Material(atomic=[(\"C\", 1), (\"H\", 2)], density=0.8)"
   ]
  },
  {
   "cell_type": "code",
   "execution_count": 29,
   "metadata": {
    "execution": {
     "iopub.execute_input": "2024-09-11T11:50:33.124441Z",
     "iopub.status.busy": "2024-09-11T11:50:33.124227Z",
     "iopub.status.idle": "2024-09-11T11:50:33.127255Z",
     "shell.execute_reply": "2024-09-11T11:50:33.126614Z",
     "shell.execute_reply.started": "2024-09-11T11:50:33.124419Z"
    }
   },
   "outputs": [],
   "source": [
    "mix = Material.mixture((water, 0.4), (oil, 0.6), fraction_type=\"weight\")"
   ]
  },
  {
   "cell_type": "code",
   "execution_count": 30,
   "metadata": {
    "execution": {
     "iopub.execute_input": "2024-09-11T11:50:33.128198Z",
     "iopub.status.busy": "2024-09-11T11:50:33.127925Z",
     "iopub.status.idle": "2024-09-11T11:50:33.131628Z",
     "shell.execute_reply": "2024-09-11T11:50:33.131041Z",
     "shell.execute_reply.started": "2024-09-11T11:50:33.128182Z"
    }
   },
   "outputs": [
    {
     "name": "stdout",
     "output_type": "stream",
     "text": [
      "0.8695652173913042\n",
      "M3 1000  6.666667e-01\n",
      "        8000  1.138999e-01\n",
      "        6000  2.194334e-01\n"
     ]
    }
   ],
   "source": [
    "print(mix.density)\n",
    "mix.composition.options[\"name\"] = 3\n",
    "print(mix.composition.mcnp_repr())"
   ]
  }
 ],
 "metadata": {
  "kernelspec": {
   "display_name": "Python 3 (ipykernel)",
   "language": "python",
   "name": "python3"
  },
  "language_info": {
   "codemirror_mode": {
    "name": "ipython",
    "version": 3
   },
   "file_extension": ".py",
   "mimetype": "text/x-python",
   "name": "python",
   "nbconvert_exporter": "python",
   "pygments_lexer": "ipython3",
   "version": "3.12.6"
  }
 },
 "nbformat": 4,
 "nbformat_minor": 4
}
