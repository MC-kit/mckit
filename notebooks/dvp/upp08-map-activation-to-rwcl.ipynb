{
 "cells": [
  {
   "cell_type": "markdown",
   "id": "86225ad3-9ed5-4a08-b155-b41c3b2ec698",
   "metadata": {},
   "source": [
    "# Extract results of activation computations for UPP08 to RWCL\n",
    "\n",
    "Dmitry Portnov, May 2021\n",
    "\n",
    "## Goals and input data\n",
    "\n",
    "Extract data from \"component_to_cell.json\" and form a table of values corresponding to RWCL \"Radwaste_Checklist_UPP08.xlsx\"\n",
    "The both files are in the same folder, on 10.106.203.11 this is \"d:\\dvp\\dev\\mcnp\\upp\\wrk\\up08\".\n",
    "\n",
    "## Scenario\n",
    "\n",
    "- Load data from json as map RWCL item -> list of cells in the MCNP model\n",
    "- Load activation data as map cell -> activation values for 12 day of cooliing\n",
    "\n"
   ]
  },
  {
   "cell_type": "code",
   "execution_count": 1,
   "id": "4ade994b-1c4e-415d-a28f-e0a8ad5c79d4",
   "metadata": {
    "execution": {
     "iopub.execute_input": "2021-07-05T11:52:32.350424Z",
     "iopub.status.busy": "2021-07-05T11:52:32.350424Z",
     "iopub.status.idle": "2021-07-05T11:52:32.388420Z",
     "shell.execute_reply": "2021-07-05T11:52:32.387426Z",
     "shell.execute_reply.started": "2021-07-05T11:52:32.350424Z"
    }
   },
   "outputs": [],
   "source": [
    "%config Completer.use_jedi = False"
   ]
  },
  {
   "cell_type": "code",
   "execution_count": 35,
   "id": "94d583af-4809-44d1-9694-608a01d45830",
   "metadata": {
    "execution": {
     "iopub.execute_input": "2021-07-05T12:30:58.333398Z",
     "iopub.status.busy": "2021-07-05T12:30:58.333398Z",
     "iopub.status.idle": "2021-07-05T12:30:58.339404Z",
     "shell.execute_reply": "2021-07-05T12:30:58.338411Z",
     "shell.execute_reply.started": "2021-07-05T12:30:58.333398Z"
    },
    "tags": []
   },
   "outputs": [],
   "source": [
    "import typing as tp\n",
    "from typing import Dict"
   ]
  },
  {
   "cell_type": "code",
   "execution_count": 2,
   "id": "d6234c6f-d3d9-4d7b-83d1-387e698c0c80",
   "metadata": {
    "execution": {
     "iopub.execute_input": "2021-07-05T11:52:33.451650Z",
     "iopub.status.busy": "2021-07-05T11:52:33.450652Z",
     "iopub.status.idle": "2021-07-05T11:52:33.458656Z",
     "shell.execute_reply": "2021-07-05T11:52:33.457649Z",
     "shell.execute_reply.started": "2021-07-05T11:52:33.451650Z"
    }
   },
   "outputs": [],
   "source": [
    "import os, sys"
   ]
  },
  {
   "cell_type": "code",
   "execution_count": 3,
   "id": "c29c6587-60ef-45f3-bf35-a10a2f6480ea",
   "metadata": {
    "execution": {
     "iopub.execute_input": "2021-07-05T11:52:34.611159Z",
     "iopub.status.busy": "2021-07-05T11:52:34.611159Z",
     "iopub.status.idle": "2021-07-05T11:52:37.334448Z",
     "shell.execute_reply": "2021-07-05T11:52:37.334448Z",
     "shell.execute_reply.started": "2021-07-05T11:52:34.611159Z"
    },
    "tags": []
   },
   "outputs": [],
   "source": [
    "try:\n",
    "    import matplotlib as mpl\n",
    "except ImportError:\n",
    "    !pip install matplotlib\n",
    "    import matplotlib as mpl\n",
    "\n",
    "import matplotlib.pyplot as plt \n",
    "%matplotlib inline"
   ]
  },
  {
   "cell_type": "code",
   "execution_count": 4,
   "id": "103dd0df-dea0-41db-b8f5-eae0549b13dc",
   "metadata": {
    "execution": {
     "iopub.execute_input": "2021-07-05T11:52:37.418902Z",
     "iopub.status.busy": "2021-07-05T11:52:37.417904Z",
     "iopub.status.idle": "2021-07-05T11:52:37.424912Z",
     "shell.execute_reply": "2021-07-05T11:52:37.423914Z",
     "shell.execute_reply.started": "2021-07-05T11:52:37.417904Z"
    }
   },
   "outputs": [],
   "source": [
    "import json\n",
    "import pathlib\n",
    "\n",
    "from collections import defaultdict\n",
    "from pathlib import Path\n",
    "from pprint import pprint, pformat\n"
   ]
  },
  {
   "cell_type": "code",
   "execution_count": 5,
   "id": "aa8f7878-f7f6-469a-b2da-73c6569e01e6",
   "metadata": {
    "execution": {
     "iopub.execute_input": "2021-07-05T11:52:39.796873Z",
     "iopub.status.busy": "2021-07-05T11:52:39.796873Z",
     "iopub.status.idle": "2021-07-05T11:52:39.972634Z",
     "shell.execute_reply": "2021-07-05T11:52:39.972634Z",
     "shell.execute_reply.started": "2021-07-05T11:52:39.796873Z"
    },
    "tags": []
   },
   "outputs": [],
   "source": [
    "import numpy as np\n",
    "import dotenv\n",
    "from tqdm import tqdm"
   ]
  },
  {
   "cell_type": "code",
   "execution_count": 6,
   "id": "08925f8a-f580-4796-a0fb-1c36bf48ddbf",
   "metadata": {
    "execution": {
     "iopub.execute_input": "2021-07-05T11:52:42.336673Z",
     "iopub.status.busy": "2021-07-05T11:52:42.336673Z",
     "iopub.status.idle": "2021-07-05T11:52:45.245924Z",
     "shell.execute_reply": "2021-07-05T11:52:45.244926Z",
     "shell.execute_reply.started": "2021-07-05T11:52:42.336673Z"
    },
    "tags": []
   },
   "outputs": [],
   "source": [
    "try:\n",
    "    import pandas as pd\n",
    "except ImportError:\n",
    "    !pip install pandas\n",
    "    import pandas as pd"
   ]
  },
  {
   "cell_type": "code",
   "execution_count": 7,
   "id": "c9acfb7f-47eb-45e3-97c9-05befd7222eb",
   "metadata": {
    "execution": {
     "iopub.execute_input": "2021-07-05T11:52:48.311780Z",
     "iopub.status.busy": "2021-07-05T11:52:48.311780Z",
     "iopub.status.idle": "2021-07-05T11:52:48.988690Z",
     "shell.execute_reply": "2021-07-05T11:52:48.988690Z",
     "shell.execute_reply.started": "2021-07-05T11:52:48.311780Z"
    },
    "tags": []
   },
   "outputs": [],
   "source": [
    "try:\n",
    "    import openpyxl\n",
    "except ImportError:\n",
    "    !pip install openpyxl\n",
    "    import openpyxl"
   ]
  },
  {
   "cell_type": "code",
   "execution_count": 8,
   "id": "1f4f717b-25a3-402c-8bf2-a1310a9d335d",
   "metadata": {
    "execution": {
     "iopub.execute_input": "2021-07-05T11:52:54.441855Z",
     "iopub.status.busy": "2021-07-05T11:52:54.441855Z",
     "iopub.status.idle": "2021-07-05T11:52:56.768872Z",
     "shell.execute_reply": "2021-07-05T11:52:56.768872Z",
     "shell.execute_reply.started": "2021-07-05T11:52:54.441855Z"
    }
   },
   "outputs": [
    {
     "name": "stdout",
     "output_type": "stream",
     "text": [
      "---*** D:\\programs\\anaconda3\\envs\\r2s-0.3\\lib\\site-packages\\mckit\\nlopt.dll\n"
     ]
    }
   ],
   "source": [
    "import mckit as mc\n",
    "import r2s_rfda as r2s\n",
    "import r2s_rfda.fetch as r2sft\n",
    "import r2s_rfda.utils as r2sut\n",
    "import r2s_rfda.launcher as r2sln\n",
    "\n",
    "# from r2s_rfda.fetch import load_result_config, load_data, load_result_config\n",
    "# from r2s_rfda import utils\n",
    "# from r2s_rfda.launcher import load_config\n"
   ]
  },
  {
   "cell_type": "code",
   "execution_count": 9,
   "id": "b2b84649-bcf3-4a50-8bd5-8c30fb002b4a",
   "metadata": {
    "execution": {
     "iopub.execute_input": "2021-07-05T11:53:13.615630Z",
     "iopub.status.busy": "2021-07-05T11:53:13.615630Z",
     "iopub.status.idle": "2021-07-05T11:53:13.623628Z",
     "shell.execute_reply": "2021-07-05T11:53:13.622635Z",
     "shell.execute_reply.started": "2021-07-05T11:53:13.615630Z"
    }
   },
   "outputs": [],
   "source": [
    "# If exists local \".env\" file, then load it to environment.\n",
    "dotenv.load_dotenv();"
   ]
  },
  {
   "cell_type": "code",
   "execution_count": 10,
   "id": "4a9bcc50-c775-43c3-ad08-db6db0f4be6d",
   "metadata": {
    "execution": {
     "iopub.execute_input": "2021-07-05T11:53:32.336033Z",
     "iopub.status.busy": "2021-07-05T11:53:32.335032Z",
     "iopub.status.idle": "2021-07-05T11:53:32.344031Z",
     "shell.execute_reply": "2021-07-05T11:53:32.343032Z",
     "shell.execute_reply.started": "2021-07-05T11:53:32.336033Z"
    }
   },
   "outputs": [],
   "source": [
    "def all_exist(*paths: Path) -> bool:\n",
    "    return all(map(Path.exists, paths))\n",
    "def all_are_files(*paths: Path) -> bool:\n",
    "    return all(map(Path.is_file, paths))\n",
    "def all_are_dirs(*paths: Path) -> bool:\n",
    "    return all(map(Path.is_dir, paths))\n"
   ]
  },
  {
   "cell_type": "code",
   "execution_count": 102,
   "id": "54ec99f3-0342-4b98-9dbe-d8f9869711c3",
   "metadata": {
    "execution": {
     "iopub.execute_input": "2021-07-05T14:15:26.459785Z",
     "iopub.status.busy": "2021-07-05T14:15:26.458785Z",
     "iopub.status.idle": "2021-07-05T14:15:26.469780Z",
     "shell.execute_reply": "2021-07-05T14:15:26.468795Z",
     "shell.execute_reply.started": "2021-07-05T14:15:26.459785Z"
    },
    "tags": []
   },
   "outputs": [],
   "source": [
    "ROOT: Path = Path(os.getenv(\"UP08_ACT_ROOT\", r'd:\\dvp\\dev\\mcnp\\upp\\wrk\\up08'))\n",
    "r2swrk: Path = ROOT / \"r2s\"\n",
    "pjson: Path = ROOT / \"component_to_cell-up08-1.json\"\n",
    "rwclinput: Path = ROOT / \"Radwaste_Checklist_UPP08.xlsx\"\n",
    "rwclinput_iss: Path = ROOT / \"Radwaste_Checklist_UP08_ISS_PCSS.xlsx\"\n",
    "\n",
    "assert all_exist(ROOT, r2swrk, pjson, rwclinput, rwclinput_iss)\n",
    "assert all_are_dirs(ROOT, r2swrk)\n",
    "assert all_are_files(pjson, rwclinput, rwclinput_iss)\n"
   ]
  },
  {
   "cell_type": "markdown",
   "id": "885cda9e-8e23-403c-b6f9-7f15645905d5",
   "metadata": {},
   "source": [
    "## Load RWCL->cells mapping from JSON"
   ]
  },
  {
   "cell_type": "code",
   "execution_count": 13,
   "id": "849bad2b-4f73-4766-bde1-b138528b8959",
   "metadata": {
    "execution": {
     "iopub.execute_input": "2021-07-05T11:58:07.803232Z",
     "iopub.status.busy": "2021-07-05T11:58:07.803232Z",
     "iopub.status.idle": "2021-07-05T11:58:07.815233Z",
     "shell.execute_reply": "2021-07-05T11:58:07.815233Z",
     "shell.execute_reply.started": "2021-07-05T11:58:07.803232Z"
    },
    "tags": []
   },
   "outputs": [
    {
     "name": "stdout",
     "output_type": "stream",
     "text": [
      "['Bioshield plug',\n",
      " 'Blade 1',\n",
      " 'Bogies chasis left',\n",
      " 'Bogies chasis right',\n",
      " 'Bottom Frame',\n",
      " 'Bottom Rail',\n",
      " 'CASK docking connector right',\n",
      " 'Cask docking connector left',\n",
      " 'Cask docking rail left',\n",
      " 'Cask docking rail structure right',\n",
      " 'DFW Right',\n",
      " 'DFW_left',\n",
      " 'DMS SPI Reserve Tank',\n",
      " 'DSM front',\n",
      " 'DSM mid',\n",
      " 'DSM rear',\n",
      " 'DSM rear2',\n",
      " 'DSM_mid',\n",
      " 'Flange 1',\n",
      " 'Flange ext',\n",
      " 'HA interspace',\n",
      " 'HA1',\n",
      " 'HA2',\n",
      " 'ISS chasis',\n",
      " 'Interspace frame',\n",
      " 'Interspace inner block',\n",
      " 'Interspace left block',\n",
      " 'Interspace right block',\n",
      " 'Interspace zone',\n",
      " 'Mount bottom',\n",
      " 'Mount left',\n",
      " 'Mount right',\n",
      " 'Mount up',\n",
      " 'Plate left 2',\n",
      " 'Rail ISS left',\n",
      " 'Rail ISS right',\n",
      " 'Rear Box',\n",
      " 'Rear left',\n",
      " 'Rear right',\n",
      " 'Shielding segment 1',\n",
      " 'Shielding segment 2',\n",
      " 'Shielding segment 3',\n",
      " 'Shielding segment 4',\n",
      " 'Shielding segment 5',\n",
      " 'Shielding segment 6',\n",
      " 'Shielding segment 7',\n",
      " 'Shielding segment 8',\n",
      " 'Support frame',\n",
      " 'Top Frame',\n",
      " 'Top Rail',\n",
      " 'Trapezoid',\n",
      " 'Tube left down',\n",
      " 'Tube left up',\n",
      " 'Tube right down',\n",
      " 'Tube right up',\n",
      " 'Upper cask docking extension',\n",
      " 'VIS exvessel',\n",
      " 'VIS flange',\n",
      " 'VIS gas line',\n",
      " 'VIS interspace',\n",
      " 'VIS_invessel',\n",
      " 'Vacuum vessel']\n"
     ]
    }
   ],
   "source": [
    "with pjson.open() as fid:\n",
    "    djson = json.load(fid)\n",
    "pprint(sorted(djson.keys()))"
   ]
  },
  {
   "cell_type": "markdown",
   "id": "85f4f995-abe3-44ca-8aa5-f68a01ed9a4c",
   "metadata": {},
   "source": [
    "## Load Cell->activation data mapping from R2S working folder"
   ]
  },
  {
   "cell_type": "code",
   "execution_count": 15,
   "id": "ca9d4c22-12c8-423f-b6c9-70b723264dcf",
   "metadata": {
    "execution": {
     "iopub.execute_input": "2021-07-05T12:15:02.198287Z",
     "iopub.status.busy": "2021-07-05T12:15:02.197287Z",
     "iopub.status.idle": "2021-07-05T12:15:06.077178Z",
     "shell.execute_reply": "2021-07-05T12:15:06.077178Z",
     "shell.execute_reply.started": "2021-07-05T12:15:02.198287Z"
    },
    "tags": []
   },
   "outputs": [],
   "source": [
    "r2s_launch_conf = r2sln.load_config(r2swrk)\n",
    "r2s_result_conf = r2sft.load_result_config(r2swrk)"
   ]
  },
  {
   "cell_type": "code",
   "execution_count": 16,
   "id": "46812b0f-68fe-446b-9d94-ea417f525eff",
   "metadata": {
    "execution": {
     "iopub.execute_input": "2021-07-05T12:15:25.135313Z",
     "iopub.status.busy": "2021-07-05T12:15:25.135313Z",
     "iopub.status.idle": "2021-07-05T12:15:25.150945Z",
     "shell.execute_reply": "2021-07-05T12:15:25.150945Z",
     "shell.execute_reply.started": "2021-07-05T12:15:25.135313Z"
    }
   },
   "outputs": [],
   "source": [
    "time = r2sut.convert_time_literal('12d')\n",
    "time_labels = list(sorted(r2s_result_conf['gamma'].keys()))\n",
    "time += time_labels[r2s_launch_conf['zero']]\n",
    "closest_lab = r2sut.find_closest(time, time_labels)\n",
    "# closest_lab"
   ]
  },
  {
   "cell_type": "code",
   "execution_count": 17,
   "id": "2d4d96ee-cca3-4c32-8f19-900fc253b98b",
   "metadata": {
    "execution": {
     "iopub.execute_input": "2021-07-05T12:15:33.294575Z",
     "iopub.status.busy": "2021-07-05T12:15:33.294575Z",
     "iopub.status.idle": "2021-07-05T12:15:33.308578Z",
     "shell.execute_reply": "2021-07-05T12:15:33.307581Z",
     "shell.execute_reply.started": "2021-07-05T12:15:33.294575Z"
    }
   },
   "outputs": [
    {
     "data": {
      "text/plain": [
       "dict_keys(['gamma', 'atoms', 'activity'])"
      ]
     },
     "execution_count": 17,
     "metadata": {},
     "output_type": "execute_result"
    }
   ],
   "source": [
    "r2s_result_conf.keys()"
   ]
  },
  {
   "cell_type": "code",
   "execution_count": 18,
   "id": "799c3277-a05a-45fb-9217-69ecb0b0e123",
   "metadata": {
    "execution": {
     "iopub.execute_input": "2021-07-05T12:15:48.145057Z",
     "iopub.status.busy": "2021-07-05T12:15:48.145057Z",
     "iopub.status.idle": "2021-07-05T12:15:49.850244Z",
     "shell.execute_reply": "2021-07-05T12:15:49.850244Z",
     "shell.execute_reply.started": "2021-07-05T12:15:48.145057Z"
    }
   },
   "outputs": [],
   "source": [
    "activation_paths = r2s_result_conf[\"activity\"]\n",
    "activation_paths\n",
    "act_data = r2sft.load_data(r2swrk / activation_paths[closest_lab])"
   ]
  },
  {
   "cell_type": "code",
   "execution_count": 19,
   "id": "adde0416-3222-4c4b-b2d8-c0659366533d",
   "metadata": {
    "execution": {
     "iopub.execute_input": "2021-07-05T12:15:58.367716Z",
     "iopub.status.busy": "2021-07-05T12:15:58.367716Z",
     "iopub.status.idle": "2021-07-05T12:15:58.376718Z",
     "shell.execute_reply": "2021-07-05T12:15:58.376718Z",
     "shell.execute_reply.started": "2021-07-05T12:15:58.367716Z"
    },
    "tags": []
   },
   "outputs": [
    {
     "data": {
      "text/plain": [
       "6349.120992777404"
      ]
     },
     "execution_count": 19,
     "metadata": {},
     "output_type": "execute_result"
    }
   ],
   "source": [
    "# Estimate correction factor for tqdm progressbar total value.\n",
    "its=80625951000\n",
    "its/act_data._data.nnz"
   ]
  },
  {
   "cell_type": "code",
   "execution_count": 20,
   "id": "890add22-700a-464a-86ce-b001826a2051",
   "metadata": {
    "execution": {
     "iopub.execute_input": "2021-07-05T12:16:02.522869Z",
     "iopub.status.busy": "2021-07-05T12:16:02.522869Z",
     "iopub.status.idle": "2021-07-05T12:16:02.528880Z",
     "shell.execute_reply": "2021-07-05T12:16:02.527868Z",
     "shell.execute_reply.started": "2021-07-05T12:16:02.522869Z"
    },
    "tags": []
   },
   "outputs": [],
   "source": [
    "tqdm_correction = 6400"
   ]
  },
  {
   "cell_type": "code",
   "execution_count": 25,
   "id": "57dc7fde-139c-4254-9b73-8c34ded46fe3",
   "metadata": {
    "execution": {
     "iopub.execute_input": "2021-07-05T12:21:16.546478Z",
     "iopub.status.busy": "2021-07-05T12:21:16.546478Z",
     "iopub.status.idle": "2021-07-05T12:21:16.566390Z",
     "shell.execute_reply": "2021-07-05T12:21:16.566390Z",
     "shell.execute_reply.started": "2021-07-05T12:21:16.546478Z"
    },
    "tags": []
   },
   "outputs": [],
   "source": [
    "def load_cell_activity(cell_excel_path: Path):\n",
    "    if cell_excel_path.exists():\n",
    "        cell_activity_df = pd.read_excel(cell_excel_path, sheet_name=\"activity\", index_col=0)\n",
    "    else:\n",
    "        cell_activity = defaultdict(float)\n",
    "        with tqdm(total=act_data._data.nnz * tqdm_correction) as pbar:\n",
    "            for cnt, ((g, c, i, j, k), act) in enumerate(act_data.iter_nonzero()):\n",
    "                cell_activity[c] += act\n",
    "                #print(act_data.gbins[g], c, i, j, k, act)\n",
    "                #i += 1\n",
    "                #if i == 1000:\n",
    "                #    break\n",
    "                if cnt % 1000 == 0:\n",
    "                    pbar.update(cnt)\n",
    "        cell_excel_path.parent.mkdir(parents=True, exist_ok=True)\n",
    "        index = np.array(sorted(cell_activity.keys()), dtype=np.int32)\n",
    "        data  = np.fromiter((cell_activity[k] for k in index), dtype=float)\n",
    "        cell_activity_df = pd.DataFrame(data, columns=[\"activity\"], index=index)\n",
    "        with pd.ExcelWriter(cell_excel_path, engine=\"openpyxl\") as excel:\n",
    "            cell_activity_df.to_excel(excel, sheet_name=\"activity\")\n",
    "    return cell_activity_df\n",
    "    "
   ]
  },
  {
   "cell_type": "code",
   "execution_count": 26,
   "id": "573d81a9-7ac3-4663-a65d-16af49055800",
   "metadata": {
    "execution": {
     "iopub.execute_input": "2021-07-05T12:21:18.982549Z",
     "iopub.status.busy": "2021-07-05T12:21:18.981549Z",
     "iopub.status.idle": "2021-07-05T12:21:19.207418Z",
     "shell.execute_reply": "2021-07-05T12:21:19.206424Z",
     "shell.execute_reply.started": "2021-07-05T12:21:18.982549Z"
    },
    "tags": []
   },
   "outputs": [
    {
     "data": {
      "text/html": [
       "<div>\n",
       "<style scoped>\n",
       "    .dataframe tbody tr th:only-of-type {\n",
       "        vertical-align: middle;\n",
       "    }\n",
       "\n",
       "    .dataframe tbody tr th {\n",
       "        vertical-align: top;\n",
       "    }\n",
       "\n",
       "    .dataframe thead th {\n",
       "        text-align: right;\n",
       "    }\n",
       "</style>\n",
       "<table border=\"1\" class=\"dataframe\">\n",
       "  <thead>\n",
       "    <tr style=\"text-align: right;\">\n",
       "      <th></th>\n",
       "      <th>activity</th>\n",
       "    </tr>\n",
       "  </thead>\n",
       "  <tbody>\n",
       "    <tr>\n",
       "      <th>320000</th>\n",
       "      <td>4.721641e+13</td>\n",
       "    </tr>\n",
       "    <tr>\n",
       "      <th>320001</th>\n",
       "      <td>1.122701e+08</td>\n",
       "    </tr>\n",
       "    <tr>\n",
       "      <th>320002</th>\n",
       "      <td>9.906696e+08</td>\n",
       "    </tr>\n",
       "    <tr>\n",
       "      <th>320003</th>\n",
       "      <td>4.573004e+07</td>\n",
       "    </tr>\n",
       "    <tr>\n",
       "      <th>320004</th>\n",
       "      <td>9.968566e+08</td>\n",
       "    </tr>\n",
       "    <tr>\n",
       "      <th>...</th>\n",
       "      <td>...</td>\n",
       "    </tr>\n",
       "    <tr>\n",
       "      <th>323774</th>\n",
       "      <td>7.584694e+05</td>\n",
       "    </tr>\n",
       "    <tr>\n",
       "      <th>323775</th>\n",
       "      <td>6.154785e+05</td>\n",
       "    </tr>\n",
       "    <tr>\n",
       "      <th>323776</th>\n",
       "      <td>5.957511e+06</td>\n",
       "    </tr>\n",
       "    <tr>\n",
       "      <th>323777</th>\n",
       "      <td>5.307759e+06</td>\n",
       "    </tr>\n",
       "    <tr>\n",
       "      <th>323778</th>\n",
       "      <td>4.906769e+06</td>\n",
       "    </tr>\n",
       "  </tbody>\n",
       "</table>\n",
       "<p>2693 rows × 1 columns</p>\n",
       "</div>"
      ],
      "text/plain": [
       "            activity\n",
       "320000  4.721641e+13\n",
       "320001  1.122701e+08\n",
       "320002  9.906696e+08\n",
       "320003  4.573004e+07\n",
       "320004  9.968566e+08\n",
       "...              ...\n",
       "323774  7.584694e+05\n",
       "323775  6.154785e+05\n",
       "323776  5.957511e+06\n",
       "323777  5.307759e+06\n",
       "323778  4.906769e+06\n",
       "\n",
       "[2693 rows x 1 columns]"
      ]
     },
     "execution_count": 26,
     "metadata": {},
     "output_type": "execute_result"
    }
   ],
   "source": [
    "cell_activity_df = load_cell_activity(Path.cwd().parent.parent / \"wrk/up08/cell_data.xlsx\")\n",
    "cell_activity_df"
   ]
  },
  {
   "cell_type": "code",
   "execution_count": 27,
   "id": "eb5f77ce-35c8-44b8-b270-fa8e303ff099",
   "metadata": {
    "execution": {
     "iopub.execute_input": "2021-07-05T12:21:26.256758Z",
     "iopub.status.busy": "2021-07-05T12:21:26.255756Z",
     "iopub.status.idle": "2021-07-05T12:21:26.269765Z",
     "shell.execute_reply": "2021-07-05T12:21:26.268763Z",
     "shell.execute_reply.started": "2021-07-05T12:21:26.256758Z"
    },
    "tags": []
   },
   "outputs": [
    {
     "data": {
      "text/plain": [
       "47216410867303.66"
      ]
     },
     "execution_count": 27,
     "metadata": {},
     "output_type": "execute_result"
    }
   ],
   "source": [
    "cell_activity_df.loc[320000][\"activity\"]"
   ]
  },
  {
   "cell_type": "code",
   "execution_count": 47,
   "id": "57f7fe30-2f70-488b-9734-c6103fedc23b",
   "metadata": {
    "execution": {
     "iopub.execute_input": "2021-07-05T13:02:36.650347Z",
     "iopub.status.busy": "2021-07-05T13:02:36.650347Z",
     "iopub.status.idle": "2021-07-05T13:02:36.659348Z",
     "shell.execute_reply": "2021-07-05T13:02:36.659348Z",
     "shell.execute_reply.started": "2021-07-05T13:02:36.650347Z"
    }
   },
   "outputs": [
    {
     "data": {
      "text/plain": [
       "WindowsPath('d:/dvp/dev/mcnp/upp/wrk/up08/Radwaste_Checklist_UPP08.xlsx')"
      ]
     },
     "execution_count": 47,
     "metadata": {},
     "output_type": "execute_result"
    }
   ],
   "source": [
    "rwclinput"
   ]
  },
  {
   "cell_type": "code",
   "execution_count": 96,
   "id": "82f47136-0743-4cb9-bf10-61990f85feda",
   "metadata": {
    "execution": {
     "iopub.execute_input": "2021-07-05T13:49:40.444287Z",
     "iopub.status.busy": "2021-07-05T13:49:40.444287Z",
     "iopub.status.idle": "2021-07-05T13:49:40.507293Z",
     "shell.execute_reply": "2021-07-05T13:49:40.507293Z",
     "shell.execute_reply.started": "2021-07-05T13:49:40.444287Z"
    },
    "tags": []
   },
   "outputs": [
    {
     "data": {
      "text/html": [
       "<div>\n",
       "<style scoped>\n",
       "    .dataframe tbody tr th:only-of-type {\n",
       "        vertical-align: middle;\n",
       "    }\n",
       "\n",
       "    .dataframe tbody tr th {\n",
       "        vertical-align: top;\n",
       "    }\n",
       "\n",
       "    .dataframe thead th {\n",
       "        text-align: right;\n",
       "    }\n",
       "</style>\n",
       "<table border=\"1\" class=\"dataframe\">\n",
       "  <thead>\n",
       "    <tr style=\"text-align: right;\">\n",
       "      <th></th>\n",
       "      <th>Mass of component (see 4.3)</th>\n",
       "    </tr>\n",
       "    <tr>\n",
       "      <th>Equipment part (see 4.1)</th>\n",
       "      <th></th>\n",
       "    </tr>\n",
       "  </thead>\n",
       "  <tbody>\n",
       "    <tr>\n",
       "      <th>DFW Left</th>\n",
       "      <td>1048 kg</td>\n",
       "    </tr>\n",
       "    <tr>\n",
       "      <th>DFW Right</th>\n",
       "      <td>1004 kg</td>\n",
       "    </tr>\n",
       "    <tr>\n",
       "      <th>DSM</th>\n",
       "      <td>3629 kg</td>\n",
       "    </tr>\n",
       "    <tr>\n",
       "      <th>Side plate #1-18 (18 pieces)</th>\n",
       "      <td>27 kg each</td>\n",
       "    </tr>\n",
       "    <tr>\n",
       "      <th>Frame Top</th>\n",
       "      <td>63 kg</td>\n",
       "    </tr>\n",
       "    <tr>\n",
       "      <th>Frame Bottom</th>\n",
       "      <td>138 kg</td>\n",
       "    </tr>\n",
       "    <tr>\n",
       "      <th>Frame Blade #1</th>\n",
       "      <td>21 kg</td>\n",
       "    </tr>\n",
       "    <tr>\n",
       "      <th>Frame Blade #2</th>\n",
       "      <td>21 kg</td>\n",
       "    </tr>\n",
       "    <tr>\n",
       "      <th>Frame Blade #3</th>\n",
       "      <td>19 kg</td>\n",
       "    </tr>\n",
       "    <tr>\n",
       "      <th>Frame Blade #4</th>\n",
       "      <td>19 kg</td>\n",
       "    </tr>\n",
       "    <tr>\n",
       "      <th>Frame Blade #5</th>\n",
       "      <td>19 kg</td>\n",
       "    </tr>\n",
       "    <tr>\n",
       "      <th>Frame Blade #6</th>\n",
       "      <td>19 kg</td>\n",
       "    </tr>\n",
       "    <tr>\n",
       "      <th>Frame Blade #7</th>\n",
       "      <td>19 kg</td>\n",
       "    </tr>\n",
       "    <tr>\n",
       "      <th>Frame Blade #8</th>\n",
       "      <td>19 kg</td>\n",
       "    </tr>\n",
       "    <tr>\n",
       "      <th>Frame Blade #9</th>\n",
       "      <td>19 kg</td>\n",
       "    </tr>\n",
       "    <tr>\n",
       "      <th>DSM Rails (2 pieces)</th>\n",
       "      <td>275 kg total</td>\n",
       "    </tr>\n",
       "    <tr>\n",
       "      <th>PP Tubes</th>\n",
       "      <td>119 kg</td>\n",
       "    </tr>\n",
       "    <tr>\n",
       "      <th>PP Generics (pads, skids, gripping - 8 pieces)</th>\n",
       "      <td>199 kg</td>\n",
       "    </tr>\n",
       "    <tr>\n",
       "      <th>PP structure</th>\n",
       "      <td>9017 kg</td>\n",
       "    </tr>\n",
       "    <tr>\n",
       "      <th>Generic Screws (50 pieces)</th>\n",
       "      <td>45 kg</td>\n",
       "    </tr>\n",
       "    <tr>\n",
       "      <th>Rear frame shielding1</th>\n",
       "      <td>4 kg</td>\n",
       "    </tr>\n",
       "    <tr>\n",
       "      <th>Rear frame shielding2</th>\n",
       "      <td>29 kg</td>\n",
       "    </tr>\n",
       "    <tr>\n",
       "      <th>Rear frame shielding3</th>\n",
       "      <td>72 kg</td>\n",
       "    </tr>\n",
       "    <tr>\n",
       "      <th>Rear frame shielding4</th>\n",
       "      <td>72 kg</td>\n",
       "    </tr>\n",
       "    <tr>\n",
       "      <th>Rear frame shielding5</th>\n",
       "      <td>65 kg</td>\n",
       "    </tr>\n",
       "    <tr>\n",
       "      <th>Rear frame shielding6</th>\n",
       "      <td>101 kg</td>\n",
       "    </tr>\n",
       "    <tr>\n",
       "      <th>Rear frame shielding7</th>\n",
       "      <td>121 kg</td>\n",
       "    </tr>\n",
       "    <tr>\n",
       "      <th>Rear frame shielding8</th>\n",
       "      <td>121 kg</td>\n",
       "    </tr>\n",
       "    <tr>\n",
       "      <th>Rear frame shielding9</th>\n",
       "      <td>1 kg</td>\n",
       "    </tr>\n",
       "    <tr>\n",
       "      <th>Rear box shielding (left)</th>\n",
       "      <td>410 kg</td>\n",
       "    </tr>\n",
       "    <tr>\n",
       "      <th>Rear box shielding (right)</th>\n",
       "      <td>340 kg</td>\n",
       "    </tr>\n",
       "    <tr>\n",
       "      <th>Rear box shielding plates (8 pieces)</th>\n",
       "      <td>315 kg</td>\n",
       "    </tr>\n",
       "    <tr>\n",
       "      <th>Manifold</th>\n",
       "      <td>256 kg</td>\n",
       "    </tr>\n",
       "  </tbody>\n",
       "</table>\n",
       "</div>"
      ],
      "text/plain": [
       "                                               Mass of component (see 4.3)\n",
       "Equipment part (see 4.1)                                                  \n",
       "DFW Left                                                           1048 kg\n",
       "DFW Right                                                          1004 kg\n",
       "DSM                                                                3629 kg\n",
       "Side plate #1-18 (18 pieces)                                   27 kg each \n",
       "Frame Top                                                            63 kg\n",
       "Frame Bottom                                                        138 kg\n",
       "Frame Blade #1                                                       21 kg\n",
       "Frame Blade #2                                                       21 kg\n",
       "Frame Blade #3                                                       19 kg\n",
       "Frame Blade #4                                                       19 kg\n",
       "Frame Blade #5                                                       19 kg\n",
       "Frame Blade #6                                                       19 kg\n",
       "Frame Blade #7                                                       19 kg\n",
       "Frame Blade #8                                                       19 kg\n",
       "Frame Blade #9                                                       19 kg\n",
       "DSM Rails (2 pieces)                                          275 kg total\n",
       "PP Tubes                                                            119 kg\n",
       "PP Generics (pads, skids, gripping - 8 pieces)                      199 kg\n",
       "PP structure                                                       9017 kg\n",
       "Generic Screws (50 pieces)                                           45 kg\n",
       "Rear frame shielding1                                                 4 kg\n",
       "Rear frame shielding2                                                29 kg\n",
       "Rear frame shielding3                                                72 kg\n",
       "Rear frame shielding4                                                72 kg\n",
       "Rear frame shielding5                                                65 kg\n",
       "Rear frame shielding6                                               101 kg\n",
       "Rear frame shielding7                                               121 kg\n",
       "Rear frame shielding8                                               121 kg\n",
       "Rear frame shielding9                                                 1 kg\n",
       "Rear box shielding (left)                                           410 kg\n",
       "Rear box shielding (right)                                          340 kg\n",
       "Rear box shielding plates (8 pieces)                                315 kg\n",
       "Manifold                                                            256 kg"
      ]
     },
     "execution_count": 96,
     "metadata": {},
     "output_type": "execute_result"
    }
   ],
   "source": [
    "rwclinput_df = pd.read_excel(rwclinput, sheet_name=\"UPP02\", header=0, usecols=[2,3], index_col=0).iloc[3:]  # Yes, UPP02 for UPP08\n",
    "rwclinput_df"
   ]
  },
  {
   "cell_type": "code",
   "execution_count": 104,
   "id": "be8aa24b-b1f6-46b5-8c55-23db93b07b02",
   "metadata": {
    "execution": {
     "iopub.execute_input": "2021-07-05T14:15:56.454694Z",
     "iopub.status.busy": "2021-07-05T14:15:56.453697Z",
     "iopub.status.idle": "2021-07-05T14:15:56.519697Z",
     "shell.execute_reply": "2021-07-05T14:15:56.519697Z",
     "shell.execute_reply.started": "2021-07-05T14:15:56.454694Z"
    },
    "tags": []
   },
   "outputs": [
    {
     "data": {
      "text/html": [
       "<div>\n",
       "<style scoped>\n",
       "    .dataframe tbody tr th:only-of-type {\n",
       "        vertical-align: middle;\n",
       "    }\n",
       "\n",
       "    .dataframe tbody tr th {\n",
       "        vertical-align: top;\n",
       "    }\n",
       "\n",
       "    .dataframe thead th {\n",
       "        text-align: right;\n",
       "    }\n",
       "</style>\n",
       "<table border=\"1\" class=\"dataframe\">\n",
       "  <thead>\n",
       "    <tr style=\"text-align: right;\">\n",
       "      <th></th>\n",
       "      <th>Mass of component (see 4.3)</th>\n",
       "    </tr>\n",
       "    <tr>\n",
       "      <th>Equipment part (see 4.1)</th>\n",
       "      <th></th>\n",
       "    </tr>\n",
       "  </thead>\n",
       "  <tbody>\n",
       "    <tr>\n",
       "      <th>PC Locking System</th>\n",
       "      <td>118.0</td>\n",
       "    </tr>\n",
       "    <tr>\n",
       "      <th>PC Bogies</th>\n",
       "      <td>1812.0</td>\n",
       "    </tr>\n",
       "    <tr>\n",
       "      <th>PC Frame</th>\n",
       "      <td>NaN</td>\n",
       "    </tr>\n",
       "    <tr>\n",
       "      <th>PC Chasis</th>\n",
       "      <td>1224.0</td>\n",
       "    </tr>\n",
       "    <tr>\n",
       "      <th>IS Diagnostic sheet</th>\n",
       "      <td>441.0</td>\n",
       "    </tr>\n",
       "    <tr>\n",
       "      <th>IS Frame</th>\n",
       "      <td>245.0</td>\n",
       "    </tr>\n",
       "    <tr>\n",
       "      <th>IS Chasis</th>\n",
       "      <td>4800.0</td>\n",
       "    </tr>\n",
       "    <tr>\n",
       "      <th>IS Bogies</th>\n",
       "      <td>2420.0</td>\n",
       "    </tr>\n",
       "    <tr>\n",
       "      <th>IS Locking System</th>\n",
       "      <td>82.0</td>\n",
       "    </tr>\n",
       "    <tr>\n",
       "      <th>IS Chasis Shielding Cube</th>\n",
       "      <td>3555.0</td>\n",
       "    </tr>\n",
       "    <tr>\n",
       "      <th>IS Cable tubes</th>\n",
       "      <td>124.0</td>\n",
       "    </tr>\n",
       "    <tr>\n",
       "      <th>IS Add Protection</th>\n",
       "      <td>1831.0</td>\n",
       "    </tr>\n",
       "    <tr>\n",
       "      <th>IS Protection Frame</th>\n",
       "      <td>1308.0</td>\n",
       "    </tr>\n",
       "    <tr>\n",
       "      <th>IS Walkways</th>\n",
       "      <td>300.0</td>\n",
       "    </tr>\n",
       "    <tr>\n",
       "      <th>Bioshild_front_1</th>\n",
       "      <td>1687.0</td>\n",
       "    </tr>\n",
       "    <tr>\n",
       "      <th>Bioshild_front_2</th>\n",
       "      <td>1583.0</td>\n",
       "    </tr>\n",
       "    <tr>\n",
       "      <th>Bioshild_front_3</th>\n",
       "      <td>1831.0</td>\n",
       "    </tr>\n",
       "    <tr>\n",
       "      <th>Bioshield 1</th>\n",
       "      <td>598.0</td>\n",
       "    </tr>\n",
       "    <tr>\n",
       "      <th>Bioshield 2</th>\n",
       "      <td>621.0</td>\n",
       "    </tr>\n",
       "    <tr>\n",
       "      <th>Bioshield 3</th>\n",
       "      <td>903.0</td>\n",
       "    </tr>\n",
       "    <tr>\n",
       "      <th>Bioshield 4</th>\n",
       "      <td>219.0</td>\n",
       "    </tr>\n",
       "    <tr>\n",
       "      <th>Bioshield 5</th>\n",
       "      <td>850.0</td>\n",
       "    </tr>\n",
       "    <tr>\n",
       "      <th>Bioshield 6</th>\n",
       "      <td>975.0</td>\n",
       "    </tr>\n",
       "    <tr>\n",
       "      <th>Bioshield 7</th>\n",
       "      <td>410.0</td>\n",
       "    </tr>\n",
       "    <tr>\n",
       "      <th>Bioshield 8</th>\n",
       "      <td>510.0</td>\n",
       "    </tr>\n",
       "    <tr>\n",
       "      <th>Bioshield 9</th>\n",
       "      <td>742.0</td>\n",
       "    </tr>\n",
       "    <tr>\n",
       "      <th>Bioshield 10</th>\n",
       "      <td>491.0</td>\n",
       "    </tr>\n",
       "    <tr>\n",
       "      <th>Bioshield 11</th>\n",
       "      <td>461.0</td>\n",
       "    </tr>\n",
       "    <tr>\n",
       "      <th>Bioshield 12</th>\n",
       "      <td>686.0</td>\n",
       "    </tr>\n",
       "    <tr>\n",
       "      <th>Bioshield 13</th>\n",
       "      <td>775.0</td>\n",
       "    </tr>\n",
       "    <tr>\n",
       "      <th>Bioshield 14</th>\n",
       "      <td>995.0</td>\n",
       "    </tr>\n",
       "    <tr>\n",
       "      <th>Bioshield 15</th>\n",
       "      <td>1288.0</td>\n",
       "    </tr>\n",
       "    <tr>\n",
       "      <th>Bioshield 16</th>\n",
       "      <td>468.0</td>\n",
       "    </tr>\n",
       "    <tr>\n",
       "      <th>Bioshield 17</th>\n",
       "      <td>457.0</td>\n",
       "    </tr>\n",
       "    <tr>\n",
       "      <th>Bioshield 18</th>\n",
       "      <td>678.0</td>\n",
       "    </tr>\n",
       "    <tr>\n",
       "      <th>Bioshield 19</th>\n",
       "      <td>724.0</td>\n",
       "    </tr>\n",
       "    <tr>\n",
       "      <th>Bioshield 20</th>\n",
       "      <td>652.0</td>\n",
       "    </tr>\n",
       "    <tr>\n",
       "      <th>Bioshield 21</th>\n",
       "      <td>807.0</td>\n",
       "    </tr>\n",
       "    <tr>\n",
       "      <th>Bioshield 22</th>\n",
       "      <td>1053.0</td>\n",
       "    </tr>\n",
       "    <tr>\n",
       "      <th>Bioshield 23</th>\n",
       "      <td>1170.0</td>\n",
       "    </tr>\n",
       "    <tr>\n",
       "      <th>Bioshield 24</th>\n",
       "      <td>977.0</td>\n",
       "    </tr>\n",
       "    <tr>\n",
       "      <th>Bioshield 25</th>\n",
       "      <td>722.0</td>\n",
       "    </tr>\n",
       "    <tr>\n",
       "      <th>Bioshield 26</th>\n",
       "      <td>651.0</td>\n",
       "    </tr>\n",
       "    <tr>\n",
       "      <th>Bioshield 27</th>\n",
       "      <td>652.0</td>\n",
       "    </tr>\n",
       "  </tbody>\n",
       "</table>\n",
       "</div>"
      ],
      "text/plain": [
       "                          Mass of component (see 4.3)\n",
       "Equipment part (see 4.1)                             \n",
       "PC Locking System                               118.0\n",
       "PC Bogies                                      1812.0\n",
       "PC Frame                                          NaN\n",
       "PC Chasis                                      1224.0\n",
       "IS Diagnostic sheet                             441.0\n",
       "IS Frame                                        245.0\n",
       "IS Chasis                                      4800.0\n",
       "IS Bogies                                      2420.0\n",
       "IS Locking System                                82.0\n",
       "IS Chasis Shielding Cube                       3555.0\n",
       "IS Cable tubes                                  124.0\n",
       "IS Add Protection                              1831.0\n",
       "IS Protection Frame                            1308.0\n",
       "IS Walkways                                     300.0\n",
       "Bioshild_front_1                               1687.0\n",
       "Bioshild_front_2                               1583.0\n",
       "Bioshild_front_3                               1831.0\n",
       "Bioshield 1                                     598.0\n",
       "Bioshield 2                                     621.0\n",
       "Bioshield 3                                     903.0\n",
       "Bioshield 4                                     219.0\n",
       "Bioshield 5                                     850.0\n",
       "Bioshield 6                                     975.0\n",
       "Bioshield 7                                     410.0\n",
       "Bioshield 8                                     510.0\n",
       "Bioshield 9                                     742.0\n",
       "Bioshield 10                                    491.0\n",
       "Bioshield 11                                    461.0\n",
       "Bioshield 12                                    686.0\n",
       "Bioshield 13                                    775.0\n",
       "Bioshield 14                                    995.0\n",
       "Bioshield 15                                   1288.0\n",
       "Bioshield 16                                    468.0\n",
       "Bioshield 17                                    457.0\n",
       "Bioshield 18                                    678.0\n",
       "Bioshield 19                                    724.0\n",
       "Bioshield 20                                    652.0\n",
       "Bioshield 21                                    807.0\n",
       "Bioshield 22                                   1053.0\n",
       "Bioshield 23                                   1170.0\n",
       "Bioshield 24                                    977.0\n",
       "Bioshield 25                                    722.0\n",
       "Bioshield 26                                    651.0\n",
       "Bioshield 27                                    652.0"
      ]
     },
     "execution_count": 104,
     "metadata": {},
     "output_type": "execute_result"
    }
   ],
   "source": [
    "rwclinput_iss_df = pd.read_excel(rwclinput_iss, sheet_name=\"UPP02\", header=0, usecols=[2,3], index_col=0).iloc[3:]  # Yes, UPP02 for UPP08\n",
    "rwclinput_iss_df"
   ]
  },
  {
   "cell_type": "code",
   "execution_count": 97,
   "id": "03b26cd3-e231-4db3-8825-f8ed1d79263f",
   "metadata": {
    "execution": {
     "iopub.execute_input": "2021-07-05T13:59:47.885873Z",
     "iopub.status.busy": "2021-07-05T13:59:47.885873Z",
     "iopub.status.idle": "2021-07-05T13:59:47.895872Z",
     "shell.execute_reply": "2021-07-05T13:59:47.894880Z",
     "shell.execute_reply.started": "2021-07-05T13:59:47.885873Z"
    },
    "tags": []
   },
   "outputs": [
    {
     "data": {
      "text/plain": [
       "Index(['DFW Left', 'DFW Right', 'DSM', 'Side plate #1-18 (18 pieces)',\n",
       "       'Frame Top', 'Frame Bottom', 'Frame Blade #1', 'Frame Blade #2',\n",
       "       'Frame Blade #3', 'Frame Blade #4', 'Frame Blade #5', 'Frame Blade #6',\n",
       "       'Frame Blade #7', 'Frame Blade #8', 'Frame Blade #9',\n",
       "       'DSM Rails (2 pieces)', 'PP Tubes',\n",
       "       'PP Generics (pads, skids, gripping - 8 pieces)', 'PP structure',\n",
       "       'Generic Screws (50 pieces)', 'Rear frame shielding1',\n",
       "       'Rear frame shielding2', 'Rear frame shielding3',\n",
       "       'Rear frame shielding4', 'Rear frame shielding5',\n",
       "       'Rear frame shielding6', 'Rear frame shielding7',\n",
       "       'Rear frame shielding8', 'Rear frame shielding9',\n",
       "       'Rear box shielding (left)', 'Rear box shielding (right)',\n",
       "       'Rear box shielding plates (8 pieces)', 'Manifold'],\n",
       "      dtype='object', name='Equipment part (see 4.1)')"
      ]
     },
     "execution_count": 97,
     "metadata": {},
     "output_type": "execute_result"
    }
   ],
   "source": [
    "rwclinput_df.index"
   ]
  },
  {
   "cell_type": "code",
   "execution_count": 105,
   "id": "c0d9c587-f2e7-4a21-b9c3-0f0984a305dd",
   "metadata": {
    "execution": {
     "iopub.execute_input": "2021-07-05T14:17:40.631478Z",
     "iopub.status.busy": "2021-07-05T14:17:40.631478Z",
     "iopub.status.idle": "2021-07-05T14:17:40.638474Z",
     "shell.execute_reply": "2021-07-05T14:17:40.637484Z",
     "shell.execute_reply.started": "2021-07-05T14:17:40.631478Z"
    },
    "tags": []
   },
   "outputs": [],
   "source": [
    "inp1 = set(rwclinput_df.index.values)\n",
    "inp2 = set(rwclinput_iss_df.index.values)\n",
    "available = set(djson.keys())"
   ]
  },
  {
   "cell_type": "code",
   "execution_count": 106,
   "id": "8e154eb0-c2d1-404d-881c-7a3acc08ed3d",
   "metadata": {
    "execution": {
     "iopub.execute_input": "2021-07-05T14:17:42.229599Z",
     "iopub.status.busy": "2021-07-05T14:17:42.229599Z",
     "iopub.status.idle": "2021-07-05T14:17:42.254387Z",
     "shell.execute_reply": "2021-07-05T14:17:42.254387Z",
     "shell.execute_reply.started": "2021-07-05T14:17:42.229599Z"
    },
    "tags": []
   },
   "outputs": [
    {
     "data": {
      "text/plain": [
       "(['DFW Left',\n",
       "  'DFW Right',\n",
       "  'DSM',\n",
       "  'DSM Rails (2 pieces)',\n",
       "  'Frame Blade #1',\n",
       "  'Frame Blade #2',\n",
       "  'Frame Blade #3',\n",
       "  'Frame Blade #4',\n",
       "  'Frame Blade #5',\n",
       "  'Frame Blade #6',\n",
       "  'Frame Blade #7',\n",
       "  'Frame Blade #8',\n",
       "  'Frame Blade #9',\n",
       "  'Frame Bottom',\n",
       "  'Frame Top',\n",
       "  'Generic Screws (50 pieces)',\n",
       "  'Manifold',\n",
       "  'PP Generics (pads, skids, gripping - 8 pieces)',\n",
       "  'PP Tubes',\n",
       "  'PP structure',\n",
       "  'Rear box shielding (left)',\n",
       "  'Rear box shielding (right)',\n",
       "  'Rear box shielding plates (8 pieces)',\n",
       "  'Rear frame shielding1',\n",
       "  'Rear frame shielding2',\n",
       "  'Rear frame shielding3',\n",
       "  'Rear frame shielding4',\n",
       "  'Rear frame shielding5',\n",
       "  'Rear frame shielding6',\n",
       "  'Rear frame shielding7',\n",
       "  'Rear frame shielding8',\n",
       "  'Rear frame shielding9',\n",
       "  'Side plate #1-18 (18 pieces)'],\n",
       " ['Bioshield 1',\n",
       "  'Bioshield 10',\n",
       "  'Bioshield 11',\n",
       "  'Bioshield 12',\n",
       "  'Bioshield 13',\n",
       "  'Bioshield 14',\n",
       "  'Bioshield 15',\n",
       "  'Bioshield 16',\n",
       "  'Bioshield 17',\n",
       "  'Bioshield 18',\n",
       "  'Bioshield 19',\n",
       "  'Bioshield 2',\n",
       "  'Bioshield 20',\n",
       "  'Bioshield 21',\n",
       "  'Bioshield 22',\n",
       "  'Bioshield 23',\n",
       "  'Bioshield 24',\n",
       "  'Bioshield 25',\n",
       "  'Bioshield 26',\n",
       "  'Bioshield 27',\n",
       "  'Bioshield 3',\n",
       "  'Bioshield 4',\n",
       "  'Bioshield 5',\n",
       "  'Bioshield 6',\n",
       "  'Bioshield 7',\n",
       "  'Bioshield 8',\n",
       "  'Bioshield 9',\n",
       "  'Bioshild_front_1',\n",
       "  'Bioshild_front_2',\n",
       "  'Bioshild_front_3',\n",
       "  'IS Add Protection',\n",
       "  'IS Bogies',\n",
       "  'IS Cable tubes',\n",
       "  'IS Chasis',\n",
       "  'IS Chasis Shielding Cube',\n",
       "  'IS Diagnostic sheet',\n",
       "  'IS Frame',\n",
       "  'IS Locking System',\n",
       "  'IS Protection Frame',\n",
       "  'IS Walkways',\n",
       "  'PC Bogies',\n",
       "  'PC Chasis',\n",
       "  'PC Frame',\n",
       "  'PC Locking System'],\n",
       " ['Bioshield plug',\n",
       "  'Blade 1',\n",
       "  'Bogies chasis left',\n",
       "  'Bogies chasis right',\n",
       "  'Bottom Frame',\n",
       "  'Bottom Rail',\n",
       "  'CASK docking connector right',\n",
       "  'Cask docking connector left',\n",
       "  'Cask docking rail left',\n",
       "  'Cask docking rail structure right',\n",
       "  'DFW Right',\n",
       "  'DFW_left',\n",
       "  'DMS SPI Reserve Tank',\n",
       "  'DSM front',\n",
       "  'DSM mid',\n",
       "  'DSM rear',\n",
       "  'DSM rear2',\n",
       "  'DSM_mid',\n",
       "  'Flange 1',\n",
       "  'Flange ext',\n",
       "  'HA interspace',\n",
       "  'HA1',\n",
       "  'HA2',\n",
       "  'ISS chasis',\n",
       "  'Interspace frame',\n",
       "  'Interspace inner block',\n",
       "  'Interspace left block',\n",
       "  'Interspace right block',\n",
       "  'Interspace zone',\n",
       "  'Mount bottom',\n",
       "  'Mount left',\n",
       "  'Mount right',\n",
       "  'Mount up',\n",
       "  'Plate left 2',\n",
       "  'Rail ISS left',\n",
       "  'Rail ISS right',\n",
       "  'Rear Box',\n",
       "  'Rear left',\n",
       "  'Rear right',\n",
       "  'Shielding segment 1',\n",
       "  'Shielding segment 2',\n",
       "  'Shielding segment 3',\n",
       "  'Shielding segment 4',\n",
       "  'Shielding segment 5',\n",
       "  'Shielding segment 6',\n",
       "  'Shielding segment 7',\n",
       "  'Shielding segment 8',\n",
       "  'Support frame',\n",
       "  'Top Frame',\n",
       "  'Top Rail',\n",
       "  'Trapezoid',\n",
       "  'Tube left down',\n",
       "  'Tube left up',\n",
       "  'Tube right down',\n",
       "  'Tube right up',\n",
       "  'Upper cask docking extension',\n",
       "  'VIS exvessel',\n",
       "  'VIS flange',\n",
       "  'VIS gas line',\n",
       "  'VIS interspace',\n",
       "  'VIS_invessel',\n",
       "  'Vacuum vessel'])"
      ]
     },
     "execution_count": 106,
     "metadata": {},
     "output_type": "execute_result"
    }
   ],
   "source": [
    "sorted(inp1), sorted(inp2), sorted(available)"
   ]
  },
  {
   "cell_type": "code",
   "execution_count": 112,
   "id": "c0e0a543-6424-4907-bd42-79f7053a3025",
   "metadata": {
    "execution": {
     "iopub.execute_input": "2021-07-05T14:21:30.183058Z",
     "iopub.status.busy": "2021-07-05T14:21:30.182058Z",
     "iopub.status.idle": "2021-07-05T14:21:30.193057Z",
     "shell.execute_reply": "2021-07-05T14:21:30.192066Z",
     "shell.execute_reply.started": "2021-07-05T14:21:30.183058Z"
    },
    "tags": []
   },
   "outputs": [
    {
     "data": {
      "text/plain": [
       "{'DFW Right'}"
      ]
     },
     "execution_count": 112,
     "metadata": {},
     "output_type": "execute_result"
    }
   ],
   "source": [
    "inp1.intersection(available)"
   ]
  },
  {
   "cell_type": "code",
   "execution_count": 114,
   "id": "a8958ce6-9db7-49a5-85aa-0bed31576b1b",
   "metadata": {
    "execution": {
     "iopub.execute_input": "2021-07-05T14:22:00.392250Z",
     "iopub.status.busy": "2021-07-05T14:22:00.391251Z",
     "iopub.status.idle": "2021-07-05T14:22:00.401249Z",
     "shell.execute_reply": "2021-07-05T14:22:00.400257Z",
     "shell.execute_reply.started": "2021-07-05T14:22:00.391251Z"
    },
    "tags": []
   },
   "outputs": [
    {
     "data": {
      "text/plain": [
       "set()"
      ]
     },
     "execution_count": 114,
     "metadata": {},
     "output_type": "execute_result"
    }
   ],
   "source": [
    "inp2.intersection(available)"
   ]
  },
  {
   "cell_type": "code",
   "execution_count": 42,
   "id": "bafc0e73-17c3-4bec-9866-16be291db637",
   "metadata": {
    "execution": {
     "iopub.execute_input": "2021-07-05T12:40:59.880483Z",
     "iopub.status.busy": "2021-07-05T12:40:59.879484Z",
     "iopub.status.idle": "2021-07-05T12:40:59.890482Z",
     "shell.execute_reply": "2021-07-05T12:40:59.889485Z",
     "shell.execute_reply.started": "2021-07-05T12:40:59.880483Z"
    },
    "tags": []
   },
   "outputs": [],
   "source": [
    "def calc_rwcl_item_activity(cell_activity_df: pd.DataFrame, djson: Dict[str, int]) -> tp.Tuple[Dict[str, float], Dict[str, tp.List[int]]]:\n",
    "    missed_items_cells = defaultdict(list)\n",
    "    rwcl_item_activity = defaultdict(float)\n",
    "    for i, (k, v) in enumerate(djson.items()):\n",
    "        for c in v:\n",
    "            if c in cell_activity_df:\n",
    "                rwcl_item_activity[k] += cell_activity_df.loc[c]\n",
    "            else:\n",
    "                missed_items_cells[k].append(c)\n",
    "    return rwcl_item_activity, missed_items_cells"
   ]
  },
  {
   "cell_type": "code",
   "execution_count": 43,
   "id": "3061d498-4b88-468e-b32e-2cdf6777658f",
   "metadata": {
    "execution": {
     "iopub.execute_input": "2021-07-05T12:41:01.148795Z",
     "iopub.status.busy": "2021-07-05T12:41:01.148795Z",
     "iopub.status.idle": "2021-07-05T12:41:01.153798Z",
     "shell.execute_reply": "2021-07-05T12:41:01.153798Z",
     "shell.execute_reply.started": "2021-07-05T12:41:01.148795Z"
    },
    "tags": []
   },
   "outputs": [],
   "source": [
    "rwcl_item_activity, missed_items_cells = calc_rwcl_item_activity(cell_activity_df, djson)"
   ]
  },
  {
   "cell_type": "code",
   "execution_count": 44,
   "id": "09aefdf2-e453-4ac7-9b8f-6f9e6f22ac20",
   "metadata": {
    "execution": {
     "iopub.execute_input": "2021-07-05T12:41:16.604297Z",
     "iopub.status.busy": "2021-07-05T12:41:16.603299Z",
     "iopub.status.idle": "2021-07-05T12:41:16.625096Z",
     "shell.execute_reply": "2021-07-05T12:41:16.625096Z",
     "shell.execute_reply.started": "2021-07-05T12:41:16.604297Z"
    },
    "tags": []
   },
   "outputs": [
    {
     "data": {
      "text/plain": [
       "defaultdict(float, {})"
      ]
     },
     "execution_count": 44,
     "metadata": {},
     "output_type": "execute_result"
    }
   ],
   "source": [
    "rwcl_item_activity"
   ]
  },
  {
   "cell_type": "code",
   "execution_count": null,
   "id": "ddfc9ff5-4d53-4c46-87bc-4786d93d8257",
   "metadata": {
    "tags": []
   },
   "outputs": [],
   "source": []
  },
  {
   "cell_type": "markdown",
   "id": "e6eb8f64-b6e9-4d71-a26d-2edee020f0a2",
   "metadata": {
    "execution": {
     "iopub.execute_input": "2021-05-18T14:10:17.562268Z",
     "iopub.status.busy": "2021-05-18T14:10:17.561268Z",
     "iopub.status.idle": "2021-05-18T14:10:17.571269Z",
     "shell.execute_reply": "2021-05-18T14:10:17.570270Z",
     "shell.execute_reply.started": "2021-05-18T14:10:17.561268Z"
    },
    "tags": []
   },
   "source": [
    "## Map RWCL items to activity value"
   ]
  },
  {
   "cell_type": "code",
   "execution_count": 46,
   "id": "c9fac5c5-0a08-4c01-ae09-5e620005d4cc",
   "metadata": {
    "execution": {
     "iopub.execute_input": "2021-07-05T12:59:25.289477Z",
     "iopub.status.busy": "2021-07-05T12:59:25.289477Z",
     "iopub.status.idle": "2021-07-05T12:59:25.295485Z",
     "shell.execute_reply": "2021-07-05T12:59:25.294477Z",
     "shell.execute_reply.started": "2021-07-05T12:59:25.289477Z"
    },
    "tags": []
   },
   "outputs": [],
   "source": [
    "# missed_items_cells"
   ]
  },
  {
   "cell_type": "code",
   "execution_count": 185,
   "id": "d8dbf58f-22ec-45b9-a549-2e28a26602f1",
   "metadata": {
    "execution": {
     "iopub.execute_input": "2021-05-18T15:29:20.971856Z",
     "iopub.status.busy": "2021-05-18T15:29:20.971856Z",
     "iopub.status.idle": "2021-05-18T15:29:20.976854Z",
     "shell.execute_reply": "2021-05-18T15:29:20.975857Z",
     "shell.execute_reply.started": "2021-05-18T15:29:20.971856Z"
    },
    "tags": []
   },
   "outputs": [],
   "source": [
    "# sorted(rwcl_item_activity.keys())"
   ]
  },
  {
   "cell_type": "code",
   "execution_count": null,
   "id": "dc72182c-9704-4981-8117-c4fef77dedd2",
   "metadata": {},
   "outputs": [],
   "source": [
    "# 6                       Side plate #1-18 (18 pieces)\n",
    "# 17                                    Frame Blade #9\n",
    "# 18                              DSM Rails (2 pieces)\n",
    "# 19                                          PP Tubes\n",
    "# 20    PP Generics (pads, skids, gripping - 8 pieces)\n",
    "# 22                        Generic Screws (50 pieces)\n",
    "# 34              Rear box shielding plates (8 pieces)\n",
    "# 35                                          Manifold\n",
    "# Name: Equipment part (see 4.1), dtype: object\n",
    "        \n",
    "rwcl2json = {\n",
    " \"Frame Blade #1\": 'Frame1',\n",
    " \"Frame Blade #2\": 'Blade2',\n",
    " \"Frame Blade #3\": 'Blade3',\n",
    " \"Frame Blade #4\": 'Blade4',\n",
    " \"Frame Blade #5\": 'Blade5',\n",
    " \"Frame Blade #6\": 'Blade6',\n",
    " \"Frame Blade #7\": 'Blade7',\n",
    " \"Frame Blade #8\": 'Blade8',\n",
    " \"DFW Left\": 'DFW_left',\n",
    " \"DFW Right\": 'DFW_right',\n",
    "#  'DMS_front',\n",
    "#  'DMS_rear',\n",
    " \"DSM\": ['DSM','DSM_down', 'DSM_up'],\n",
    "    \n",
    " \"PP structure\": [\n",
    "     'Flange',\n",
    "     'Flange_ext',\n",
    "     'Trapezoid',\n",
    "     'Rear_box',\n",
    " ]\n",
    "\n",
    " \"Frame Bottom\": 'Frame_bottom',\n",
    " \"Frame Top\": 'Frame_top',\n",
    "# 'GDC',\n",
    " 'Interspace_left_block',\n",
    " 'Interspace_left_frame',\n",
    " 'Interspace_lower_shielding',\n",
    " 'Interspace_right_block',\n",
    " 'Interspace_right_frame',\n",
    " 'Interspace_top_frame',\n",
    " 'Mount_bottom',\n",
    " 'Mount_left',\n",
    " 'Mount_right',\n",
    " 'Mount_up',\n",
    "#  'Reflectometer_left',\n",
    "#  'Reflectometer_rear',\n",
    "#  'Reflectometer_right',\n",
    " \"Rear frame shielding1\": 'Shielding1',\n",
    "#  \"Rear frame shielding10\": ,\n",
    " \"Rear frame shielding2\": 'Shielding2',\n",
    " \"Rear frame shielding3\": 'Shielding3',\n",
    " \"Rear frame shielding4\": 'Shielding4',\n",
    " \"Rear frame shielding5\": 'Shielding5',\n",
    " \"Rear frame shielding6\": 'Shielding6',\n",
    " \"Rear frame shielding7\": 'Shielding7',\n",
    " \"Rear frame shielding8\": 'Shielding8',\n",
    " \"Rear frame shielding8\": 'Shielding_segment_9',\n",
    " \"Rear box shielding (left)\": 'Shielding_rear_left',\n",
    " \"Rear box shielding (rightt)\": 'Shielding_rear_right',\n",
    "#  'Vis_exvessel',\n",
    "#  'Visir_flange',\n",
    "#  'Visir_invessel',\n",
    "]"
   ]
  },
  {
   "cell_type": "code",
   "execution_count": 186,
   "id": "68445178-7d58-4d42-ad90-12b758d0cb49",
   "metadata": {
    "execution": {
     "iopub.execute_input": "2021-05-18T15:35:57.179073Z",
     "iopub.status.busy": "2021-05-18T15:35:57.178074Z",
     "iopub.status.idle": "2021-05-18T15:35:57.195076Z",
     "shell.execute_reply": "2021-05-18T15:35:57.195076Z",
     "shell.execute_reply.started": "2021-05-18T15:35:57.179073Z"
    },
    "tags": []
   },
   "outputs": [
    {
     "name": "stdout",
     "output_type": "stream",
     "text": [
      "No data for component 3 DFW Left\n",
      "No data for component 4 DFW Right\n",
      "No data for component 6 Side plate #1-18 (18 pieces)\n",
      "No data for component 7 Frame Top\n",
      "No data for component 8 Frame Bottom\n",
      "No data for component 9 Frame Blade #1\n",
      "No data for component 10 Frame Blade #2\n",
      "No data for component 11 Frame Blade #3\n",
      "No data for component 12 Frame Blade #4\n",
      "No data for component 13 Frame Blade #5\n",
      "No data for component 14 Frame Blade #6\n",
      "No data for component 15 Frame Blade #7\n",
      "No data for component 16 Frame Blade #8\n",
      "No data for component 17 Frame Blade #9\n",
      "No data for component 18 DSM Rails (2 pieces)\n",
      "No data for component 19 PP Tubes\n",
      "No data for component 20 PP Generics (pads, skids, gripping - 8 pieces)\n",
      "No data for component 21 PP structure\n",
      "No data for component 22 Generic Screws (50 pieces)\n",
      "No data for component 23 Rear frame shielding1\n",
      "No data for component 24 Rear frame shielding2\n",
      "No data for component 25 Rear frame shielding3\n",
      "No data for component 26 Rear frame shielding4\n",
      "No data for component 27 Rear frame shielding5\n",
      "No data for component 28 Rear frame shielding6\n",
      "No data for component 29 Rear frame shielding7\n",
      "No data for component 30 Rear frame shielding8\n",
      "No data for component 31 Rear frame shielding9\n",
      "No data for component 32 Rear box shielding (left)\n",
      "No data for component 33 Rear box shielding (right)\n",
      "No data for component 34 Rear box shielding plates (8 pieces)\n",
      "No data for component 35 Manifold\n"
     ]
    },
    {
     "data": {
      "text/plain": [
       "array([           nan,            nan,            nan,            nan,\n",
       "                  nan, 9.57321799e+13,            nan,            nan,\n",
       "                  nan,            nan,            nan,            nan,\n",
       "                  nan,            nan,            nan,            nan,\n",
       "                  nan,            nan,            nan,            nan,\n",
       "                  nan,            nan,            nan,            nan,\n",
       "                  nan,            nan,            nan,            nan,\n",
       "                  nan,            nan,            nan,            nan,\n",
       "                  nan,            nan,            nan,            nan])"
      ]
     },
     "execution_count": 186,
     "metadata": {},
     "output_type": "execute_result"
    }
   ],
   "source": [
    "activation_column = np.zeros(len(rwclout_keys), dtype=float)\n",
    "\n",
    "for i, key in enumerate(rwclout_keys):\n",
    "    if key is np.NaN:\n",
    "        activation_column[i] = np.NaN\n",
    "    else:\n",
    "        activity = rwcl_item_activity.get(key, None)\n",
    "        if activity is None:\n",
    "            print(f\"No data for component {i} {key}\")\n",
    "            activation_column[i] = np.NaN\n",
    "        else:\n",
    "            activation_column[i] = activity\n",
    "    \n",
    "activation_column"
   ]
  },
  {
   "cell_type": "code",
   "execution_count": 170,
   "id": "c0b2897e-3a0a-47b7-b267-98622d2c30b7",
   "metadata": {
    "execution": {
     "iopub.execute_input": "2021-05-18T15:02:03.942130Z",
     "iopub.status.busy": "2021-05-18T15:02:03.942130Z",
     "iopub.status.idle": "2021-05-18T15:02:04.003457Z",
     "shell.execute_reply": "2021-05-18T15:02:04.002449Z",
     "shell.execute_reply.started": "2021-05-18T15:02:03.942130Z"
    },
    "tags": []
   },
   "outputs": [],
   "source": [
    "rwclinput_df = pd.read_excel(rwclinput, sheet_name=\"UPP02\", engine=\"openpyxl\")   # Yes, sheet name is \"UPP02\" in file for UP08 RWCL"
   ]
  },
  {
   "cell_type": "code",
   "execution_count": 175,
   "id": "a10fc632-b8a8-4ff0-8713-345393477bef",
   "metadata": {
    "execution": {
     "iopub.execute_input": "2021-05-18T15:05:28.853671Z",
     "iopub.status.busy": "2021-05-18T15:05:28.852671Z",
     "iopub.status.idle": "2021-05-18T15:05:28.869536Z",
     "shell.execute_reply": "2021-05-18T15:05:28.869536Z",
     "shell.execute_reply.started": "2021-05-18T15:05:28.853671Z"
    },
    "tags": []
   },
   "outputs": [],
   "source": [
    "rwclout_keys = rwclinput_df[rwclinput_df.columns[2]]"
   ]
  },
  {
   "cell_type": "code",
   "execution_count": 176,
   "id": "31b38ee6-bec7-4f0c-abfb-23e344f4a4a9",
   "metadata": {
    "execution": {
     "iopub.execute_input": "2021-05-18T15:05:30.111236Z",
     "iopub.status.busy": "2021-05-18T15:05:30.110237Z",
     "iopub.status.idle": "2021-05-18T15:05:30.123237Z",
     "shell.execute_reply": "2021-05-18T15:05:30.122237Z",
     "shell.execute_reply.started": "2021-05-18T15:05:30.111236Z"
    },
    "jupyter": {
     "source_hidden": true
    },
    "tags": []
   },
   "outputs": [
    {
     "data": {
      "text/plain": [
       "0                                                NaN\n",
       "1                                                NaN\n",
       "2                                                NaN\n",
       "3                                           DFW Left\n",
       "4                                          DFW Right\n",
       "5                                                DSM\n",
       "6                       Side plate #1-18 (18 pieces)\n",
       "7                                          Frame Top\n",
       "8                                       Frame Bottom\n",
       "9                                     Frame Blade #1\n",
       "10                                    Frame Blade #2\n",
       "11                                    Frame Blade #3\n",
       "12                                    Frame Blade #4\n",
       "13                                    Frame Blade #5\n",
       "14                                    Frame Blade #6\n",
       "15                                    Frame Blade #7\n",
       "16                                    Frame Blade #8\n",
       "17                                    Frame Blade #9\n",
       "18                              DSM Rails (2 pieces)\n",
       "19                                          PP Tubes\n",
       "20    PP Generics (pads, skids, gripping - 8 pieces)\n",
       "21                                      PP structure\n",
       "22                        Generic Screws (50 pieces)\n",
       "23                             Rear frame shielding1\n",
       "24                             Rear frame shielding2\n",
       "25                             Rear frame shielding3\n",
       "26                             Rear frame shielding4\n",
       "27                             Rear frame shielding5\n",
       "28                             Rear frame shielding6\n",
       "29                             Rear frame shielding7\n",
       "30                             Rear frame shielding8\n",
       "31                             Rear frame shielding9\n",
       "32                         Rear box shielding (left)\n",
       "33                        Rear box shielding (right)\n",
       "34              Rear box shielding plates (8 pieces)\n",
       "35                                          Manifold\n",
       "Name: Equipment part (see 4.1), dtype: object"
      ]
     },
     "execution_count": 176,
     "metadata": {},
     "output_type": "execute_result"
    }
   ],
   "source": [
    "rwclout_keys"
   ]
  }
 ],
 "metadata": {
  "kernelspec": {
   "display_name": "r2s-0.3",
   "language": "python",
   "name": "r2s-0.3"
  },
  "language_info": {
   "codemirror_mode": {
    "name": "ipython",
    "version": 3
   },
   "file_extension": ".py",
   "mimetype": "text/x-python",
   "name": "python",
   "nbconvert_exporter": "python",
   "pygments_lexer": "ipython3",
   "version": "3.9.4"
  }
 },
 "nbformat": 4,
 "nbformat_minor": 5
}
