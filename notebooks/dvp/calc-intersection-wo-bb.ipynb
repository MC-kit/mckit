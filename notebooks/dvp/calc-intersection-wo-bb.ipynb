{
 "cells": [
  {
   "cell_type": "markdown",
   "metadata": {},
   "source": [
    "# Compute UP08 ISS/Portcell model intersection with envelopes for GA VIS IR.\n",
    "\n",
    "We don't use bounding boxes here, because the number of cells in the model is much more (about 1000 times) than number of GA envelopes. The complexity is not reduced significantly using bounding box."
   ]
  },
  {
   "cell_type": "code",
   "execution_count": 2,
   "metadata": {},
   "outputs": [],
   "source": [
    "import typing as tp"
   ]
  },
  {
   "cell_type": "code",
   "execution_count": 3,
   "metadata": {},
   "outputs": [],
   "source": [
    "import json"
   ]
  },
  {
   "cell_type": "code",
   "execution_count": 43,
   "metadata": {},
   "outputs": [],
   "source": [
    "from tqdm import tqdm"
   ]
  },
  {
   "cell_type": "code",
   "execution_count": 22,
   "metadata": {},
   "outputs": [],
   "source": [
    "from pprint import pprint, pformat"
   ]
  },
  {
   "cell_type": "code",
   "execution_count": 28,
   "metadata": {},
   "outputs": [],
   "source": [
    "from functools import reduce"
   ]
  },
  {
   "cell_type": "code",
   "execution_count": 4,
   "metadata": {},
   "outputs": [],
   "source": [
    "import mckit as mk"
   ]
  },
  {
   "cell_type": "code",
   "execution_count": 7,
   "metadata": {},
   "outputs": [
    {
     "data": {
      "text/plain": [
       "WindowsPath('D:/dvp/dev/mcnp/upp/wrk/up08/intersection')"
      ]
     },
     "execution_count": 7,
     "metadata": {},
     "output_type": "execute_result"
    }
   ],
   "source": [
    "from pathlib import Path\n",
    "Path.cwd()"
   ]
  },
  {
   "cell_type": "code",
   "execution_count": 5,
   "metadata": {},
   "outputs": [],
   "source": [
    "upp08 = mk.read_mcnp(\"u200.i\")"
   ]
  },
  {
   "cell_type": "code",
   "execution_count": 6,
   "metadata": {},
   "outputs": [],
   "source": [
    "upp08_boxes  = []"
   ]
  },
  {
   "cell_type": "markdown",
   "metadata": {
    "jupyter": {
     "outputs_hidden": true
    }
   },
   "source": [
    "for c in upp08:\n",
    "    bb = c.shape.bounding_box(tol=10)\n",
    "    print(c.name())\n",
    "    upp08_boxes.append(bb)"
   ]
  },
  {
   "cell_type": "markdown",
   "metadata": {},
   "source": [
    "len(upp08_boxes)"
   ]
  },
  {
   "cell_type": "code",
   "execution_count": 9,
   "metadata": {},
   "outputs": [],
   "source": [
    "envelop = mk.read_mcnp(\"ga-vis-ir.i\")"
   ]
  },
  {
   "cell_type": "code",
   "execution_count": 14,
   "metadata": {},
   "outputs": [
    {
     "data": {
      "text/plain": [
       "5"
      ]
     },
     "execution_count": 14,
     "metadata": {},
     "output_type": "execute_result"
    }
   ],
   "source": [
    "len(envelop)"
   ]
  },
  {
   "cell_type": "markdown",
   "metadata": {},
   "source": [
    "envelop_boxes = []"
   ]
  },
  {
   "cell_type": "markdown",
   "metadata": {},
   "source": [
    "for c in envelop:\n",
    "    bb = c.shape.bounding_box(tol=10)\n",
    "    print(c.name())\n",
    "    envelop_boxes.append(bb)"
   ]
  },
  {
   "cell_type": "code",
   "execution_count": 12,
   "metadata": {},
   "outputs": [],
   "source": [
    "envelop_union = reduce(mk.Body.union, envelop[:3]).simplify(min_volume=0.1)"
   ]
  },
  {
   "cell_type": "code",
   "execution_count": 48,
   "metadata": {},
   "outputs": [
    {
     "name": "stderr",
     "output_type": "stream",
     "text": [
      "100%|██████████████████████████████████████| 4261/4261 [05:20<00:00, 13.28it/s]\n"
     ]
    },
    {
     "data": {
      "text/plain": [
       "(467, 4261)"
      ]
     },
     "execution_count": 48,
     "metadata": {},
     "output_type": "execute_result"
    }
   ],
   "source": [
    "envelopes_cells: tp.List[mk.Body] = []\n",
    "\n",
    "for c8 in tqdm(upp08):\n",
    "    new_cell = c8.intersection(envelop_union).simplify(min_volume=0.1)\n",
    "    if not new_cell.shape.is_empty():\n",
    "        envelopes_cells.append(new_cell)\n",
    "\n",
    "len(envelopes_cells), len(upp08)"
   ]
  },
  {
   "cell_type": "code",
   "execution_count": 49,
   "metadata": {},
   "outputs": [],
   "source": [
    "envelopes_cells_names: tp.List[int] = list(map(mk.Body.name, envelopes_cells))"
   ]
  },
  {
   "cell_type": "code",
   "execution_count": 53,
   "metadata": {
    "collapsed": true,
    "jupyter": {
     "outputs_hidden": true
    }
   },
   "outputs": [
    {
     "data": {
      "text/plain": [
       "[323253,\n",
       " 323254,\n",
       " 323255,\n",
       " 323256,\n",
       " 323257,\n",
       " 323258,\n",
       " 323259,\n",
       " 323260,\n",
       " 323261,\n",
       " 323262,\n",
       " 323263,\n",
       " 323264,\n",
       " 323265,\n",
       " 323266,\n",
       " 323267,\n",
       " 323268,\n",
       " 323269,\n",
       " 323270,\n",
       " 323271,\n",
       " 323272,\n",
       " 323273,\n",
       " 323274,\n",
       " 323275,\n",
       " 323276,\n",
       " 323277,\n",
       " 323278,\n",
       " 323279,\n",
       " 323280,\n",
       " 323281,\n",
       " 323282,\n",
       " 323283,\n",
       " 323284,\n",
       " 323285,\n",
       " 323286,\n",
       " 323287,\n",
       " 323288,\n",
       " 323289,\n",
       " 323290,\n",
       " 323291,\n",
       " 323292,\n",
       " 323293,\n",
       " 323294,\n",
       " 323295,\n",
       " 323296,\n",
       " 323297,\n",
       " 323298,\n",
       " 323299,\n",
       " 323300,\n",
       " 323301,\n",
       " 323302,\n",
       " 323304,\n",
       " 323306,\n",
       " 323307,\n",
       " 323308,\n",
       " 323309,\n",
       " 323310,\n",
       " 323311,\n",
       " 323312,\n",
       " 323313,\n",
       " 323314,\n",
       " 323315,\n",
       " 323316,\n",
       " 323317,\n",
       " 323318,\n",
       " 323319,\n",
       " 323320,\n",
       " 323321,\n",
       " 323322,\n",
       " 323323,\n",
       " 323324,\n",
       " 323325,\n",
       " 323326,\n",
       " 323327,\n",
       " 323328,\n",
       " 323329,\n",
       " 323330,\n",
       " 323331,\n",
       " 323332,\n",
       " 323333,\n",
       " 323334,\n",
       " 323335,\n",
       " 323336,\n",
       " 323337,\n",
       " 323338,\n",
       " 323339,\n",
       " 323340,\n",
       " 323341,\n",
       " 323342,\n",
       " 323343,\n",
       " 323344,\n",
       " 323345,\n",
       " 323346,\n",
       " 323347,\n",
       " 323348,\n",
       " 323349,\n",
       " 323350,\n",
       " 323351,\n",
       " 323352,\n",
       " 323353,\n",
       " 323354,\n",
       " 323355,\n",
       " 323356,\n",
       " 323357,\n",
       " 323358,\n",
       " 323359,\n",
       " 323360,\n",
       " 323361,\n",
       " 323362,\n",
       " 323363,\n",
       " 323364,\n",
       " 323365,\n",
       " 323366,\n",
       " 323367,\n",
       " 323368,\n",
       " 323369,\n",
       " 323370,\n",
       " 323371,\n",
       " 323372,\n",
       " 323373,\n",
       " 323374,\n",
       " 323375,\n",
       " 323376,\n",
       " 323377,\n",
       " 323378,\n",
       " 323379,\n",
       " 323380,\n",
       " 323381,\n",
       " 323382,\n",
       " 323383,\n",
       " 323384,\n",
       " 323385,\n",
       " 323386,\n",
       " 323387,\n",
       " 323388,\n",
       " 323389,\n",
       " 323390,\n",
       " 323391,\n",
       " 323392,\n",
       " 323393,\n",
       " 323394,\n",
       " 323395,\n",
       " 323396,\n",
       " 323397,\n",
       " 323398,\n",
       " 323399,\n",
       " 323400,\n",
       " 323401,\n",
       " 323402,\n",
       " 323403,\n",
       " 323404,\n",
       " 323405,\n",
       " 323406,\n",
       " 323407,\n",
       " 323408,\n",
       " 323409,\n",
       " 323410,\n",
       " 323411,\n",
       " 323412,\n",
       " 323413,\n",
       " 323414,\n",
       " 323415,\n",
       " 323416,\n",
       " 323417,\n",
       " 323418,\n",
       " 323419,\n",
       " 323420,\n",
       " 323421,\n",
       " 323422,\n",
       " 323423,\n",
       " 323424,\n",
       " 323425,\n",
       " 323426,\n",
       " 323427,\n",
       " 323428,\n",
       " 323429,\n",
       " 323430,\n",
       " 323431,\n",
       " 323432,\n",
       " 323433,\n",
       " 323434,\n",
       " 323435,\n",
       " 323436,\n",
       " 323437,\n",
       " 323438,\n",
       " 323439,\n",
       " 323440,\n",
       " 323441,\n",
       " 323442,\n",
       " 323443,\n",
       " 323444,\n",
       " 323445,\n",
       " 323446,\n",
       " 323447,\n",
       " 323448,\n",
       " 323449,\n",
       " 323450,\n",
       " 323451,\n",
       " 323452,\n",
       " 323453,\n",
       " 323454,\n",
       " 323455,\n",
       " 323456,\n",
       " 323457,\n",
       " 323458,\n",
       " 323459,\n",
       " 323460,\n",
       " 323461,\n",
       " 323462,\n",
       " 323463,\n",
       " 323464,\n",
       " 323465,\n",
       " 323466,\n",
       " 323467,\n",
       " 323468,\n",
       " 323469,\n",
       " 323470,\n",
       " 323471,\n",
       " 323472,\n",
       " 323473,\n",
       " 323474,\n",
       " 323475,\n",
       " 323476,\n",
       " 323477,\n",
       " 323478,\n",
       " 323479,\n",
       " 323480,\n",
       " 323481,\n",
       " 323482,\n",
       " 323483,\n",
       " 323484,\n",
       " 323485,\n",
       " 323486,\n",
       " 323487,\n",
       " 323488,\n",
       " 323489,\n",
       " 323490,\n",
       " 323491,\n",
       " 323492,\n",
       " 323493,\n",
       " 323494,\n",
       " 323495,\n",
       " 323496,\n",
       " 323497,\n",
       " 323498,\n",
       " 323499,\n",
       " 323500,\n",
       " 323501,\n",
       " 323502,\n",
       " 323503,\n",
       " 323504,\n",
       " 323505,\n",
       " 323506,\n",
       " 323507,\n",
       " 323508,\n",
       " 323509,\n",
       " 323510,\n",
       " 323511,\n",
       " 323512,\n",
       " 323513,\n",
       " 323514,\n",
       " 323515,\n",
       " 323516,\n",
       " 323517,\n",
       " 323518,\n",
       " 323519,\n",
       " 323520,\n",
       " 323521,\n",
       " 323522,\n",
       " 323523,\n",
       " 323524,\n",
       " 323525,\n",
       " 323526,\n",
       " 323527,\n",
       " 323528,\n",
       " 323529,\n",
       " 323530,\n",
       " 323531,\n",
       " 323532,\n",
       " 323533,\n",
       " 323534,\n",
       " 323535,\n",
       " 323536,\n",
       " 323537,\n",
       " 323538,\n",
       " 323539,\n",
       " 323540,\n",
       " 323541,\n",
       " 323542,\n",
       " 323543,\n",
       " 323544,\n",
       " 323545,\n",
       " 323546,\n",
       " 323547,\n",
       " 323548,\n",
       " 323549,\n",
       " 323550,\n",
       " 323551,\n",
       " 323552,\n",
       " 323553,\n",
       " 323554,\n",
       " 323555,\n",
       " 323556,\n",
       " 323557,\n",
       " 323558,\n",
       " 323559,\n",
       " 323560,\n",
       " 323561,\n",
       " 323562,\n",
       " 323563,\n",
       " 323564,\n",
       " 323565,\n",
       " 323566,\n",
       " 323567,\n",
       " 323568,\n",
       " 323569,\n",
       " 323570,\n",
       " 323571,\n",
       " 323572,\n",
       " 323573,\n",
       " 323574,\n",
       " 323575,\n",
       " 323577,\n",
       " 323663,\n",
       " 323794,\n",
       " 323795,\n",
       " 323797,\n",
       " 323798,\n",
       " 323799,\n",
       " 323800,\n",
       " 323801,\n",
       " 323802,\n",
       " 323803,\n",
       " 323804,\n",
       " 323805,\n",
       " 323806,\n",
       " 323807,\n",
       " 323808,\n",
       " 323809,\n",
       " 323810,\n",
       " 323811,\n",
       " 323812,\n",
       " 323813,\n",
       " 323817,\n",
       " 323818,\n",
       " 323820,\n",
       " 323821,\n",
       " 323822,\n",
       " 323824,\n",
       " 323825,\n",
       " 323826,\n",
       " 323827,\n",
       " 323828,\n",
       " 323829,\n",
       " 323830,\n",
       " 323894,\n",
       " 323895,\n",
       " 323896,\n",
       " 323899,\n",
       " 323900,\n",
       " 323902,\n",
       " 323903,\n",
       " 323904,\n",
       " 323905,\n",
       " 323906,\n",
       " 323907,\n",
       " 323908,\n",
       " 323909,\n",
       " 323910,\n",
       " 323911,\n",
       " 323913,\n",
       " 323914,\n",
       " 323915,\n",
       " 323917,\n",
       " 323918,\n",
       " 323920,\n",
       " 323922,\n",
       " 323923,\n",
       " 323924,\n",
       " 323925,\n",
       " 323926,\n",
       " 323927,\n",
       " 323928,\n",
       " 323929,\n",
       " 323931,\n",
       " 323932,\n",
       " 323933,\n",
       " 323934,\n",
       " 323935,\n",
       " 323937,\n",
       " 323944,\n",
       " 323945,\n",
       " 323947,\n",
       " 323948,\n",
       " 323949,\n",
       " 323950,\n",
       " 323953,\n",
       " 324047,\n",
       " 324048,\n",
       " 324049,\n",
       " 324050,\n",
       " 324051,\n",
       " 324052,\n",
       " 324053,\n",
       " 324065,\n",
       " 324066,\n",
       " 324068,\n",
       " 324069,\n",
       " 324070,\n",
       " 324071,\n",
       " 324072,\n",
       " 324073,\n",
       " 324074,\n",
       " 324075,\n",
       " 324076,\n",
       " 324077,\n",
       " 324078,\n",
       " 324097,\n",
       " 324098,\n",
       " 324099,\n",
       " 324100,\n",
       " 324101,\n",
       " 324102,\n",
       " 324103,\n",
       " 324104,\n",
       " 324105,\n",
       " 324108,\n",
       " 324110,\n",
       " 324111,\n",
       " 324112,\n",
       " 324113,\n",
       " 324114,\n",
       " 324115,\n",
       " 324116,\n",
       " 324117,\n",
       " 324118,\n",
       " 324120,\n",
       " 324121,\n",
       " 324122,\n",
       " 324123,\n",
       " 324124,\n",
       " 324131,\n",
       " 324132,\n",
       " 324133,\n",
       " 324134,\n",
       " 324135,\n",
       " 324136,\n",
       " 324137,\n",
       " 324138,\n",
       " 324139,\n",
       " 324140,\n",
       " 324141,\n",
       " 324142,\n",
       " 324143,\n",
       " 324144,\n",
       " 324145,\n",
       " 324146,\n",
       " 324147,\n",
       " 324148,\n",
       " 324149,\n",
       " 324150,\n",
       " 324151,\n",
       " 324152,\n",
       " 324153,\n",
       " 324154,\n",
       " 324155,\n",
       " 324157,\n",
       " 324158]"
      ]
     },
     "execution_count": 53,
     "metadata": {},
     "output_type": "execute_result"
    }
   ],
   "source": [
    "envelopes_cells_names[:]"
   ]
  },
  {
   "cell_type": "code",
   "execution_count": 51,
   "metadata": {},
   "outputs": [],
   "source": [
    "new_universe = mk.Universe(envelopes_cells, name_rule=\"clash\")\n",
    "new_universe.save(\"vis-ir-intersection-union.i\")"
   ]
  },
  {
   "cell_type": "code",
   "execution_count": null,
   "metadata": {},
   "outputs": [],
   "source": [
    "component_to_cell_map: tp.Dict[str, Set[int]] = dict()"
   ]
  },
  {
   "cell_type": "code",
   "execution_count": null,
   "metadata": {},
   "outputs": [],
   "source": [
    "names_of_cells_with_materials: tp.Set[int] = {c.name() for c in envelopes_cells if c.material()}\n",
    "component_to_cell_map[\"vis-ir-gdc\", names_of_cells_with_materials]"
   ]
  },
  {
   "cell_type": "code",
   "execution_count": null,
   "metadata": {},
   "outputs": [],
   "source": [
    "upp08_volumes = []\n",
    "for c in upp08:\n",
    "    if c.material():\n",
    "        upp08_volumes.append(c.shape.volume(min_volume=1.e-3))\n",
    "    else:\n",
    "        upp08_volumes.append(0)"
   ]
  },
  {
   "cell_type": "code",
   "execution_count": null,
   "metadata": {},
   "outputs": [],
   "source": []
  },
  {
   "cell_type": "code",
   "execution_count": null,
   "metadata": {},
   "outputs": [],
   "source": [
    "def select_criteria(c: mk.Body):\n",
    "    "
   ]
  }
 ],
 "metadata": {
  "kernelspec": {
   "display_name": "Python 3",
   "language": "python",
   "name": "python3"
  },
  "language_info": {
   "codemirror_mode": {
    "name": "ipython",
    "version": 3
   },
   "file_extension": ".py",
   "mimetype": "text/x-python",
   "name": "python",
   "nbconvert_exporter": "python",
   "pygments_lexer": "ipython3",
   "version": "3.7.7"
  }
 },
 "nbformat": 4,
 "nbformat_minor": 4
}
